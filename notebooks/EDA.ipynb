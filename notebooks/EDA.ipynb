{
 "cells": [
  {
   "cell_type": "markdown",
   "id": "5f104a22",
   "metadata": {},
   "source": [
    "### Exploratory Data Analysis"
   ]
  },
  {
   "cell_type": "code",
   "execution_count": 1,
   "id": "4840f15c",
   "metadata": {},
   "outputs": [],
   "source": [
    "import pandas as pd\n",
    "import matplotlib.pyplot as plt\n",
    "import seaborn as sns\n",
    "import cv2\n",
    "import os\n",
    "import shutil"
   ]
  },
  {
   "cell_type": "code",
   "execution_count": 2,
   "id": "06194b9d",
   "metadata": {},
   "outputs": [
    {
     "data": {
      "text/html": [
       "<div>\n",
       "<style scoped>\n",
       "    .dataframe tbody tr th:only-of-type {\n",
       "        vertical-align: middle;\n",
       "    }\n",
       "\n",
       "    .dataframe tbody tr th {\n",
       "        vertical-align: top;\n",
       "    }\n",
       "\n",
       "    .dataframe thead th {\n",
       "        text-align: right;\n",
       "    }\n",
       "</style>\n",
       "<table border=\"1\" class=\"dataframe\">\n",
       "  <thead>\n",
       "    <tr style=\"text-align: right;\">\n",
       "      <th></th>\n",
       "      <th>Video No.</th>\n",
       "      <th>Shot No.</th>\n",
       "      <th>Filename</th>\n",
       "      <th>Category</th>\n",
       "      <th>Duration</th>\n",
       "    </tr>\n",
       "  </thead>\n",
       "  <tbody>\n",
       "    <tr>\n",
       "      <th>0</th>\n",
       "      <td>1</td>\n",
       "      <td>1</td>\n",
       "      <td>Video001-Scene-001.mp4</td>\n",
       "      <td>Logo</td>\n",
       "      <td>6.56</td>\n",
       "    </tr>\n",
       "    <tr>\n",
       "      <th>1</th>\n",
       "      <td>1</td>\n",
       "      <td>2</td>\n",
       "      <td>Video001-Scene-002.mp4</td>\n",
       "      <td>Animation</td>\n",
       "      <td>1.96</td>\n",
       "    </tr>\n",
       "    <tr>\n",
       "      <th>2</th>\n",
       "      <td>1</td>\n",
       "      <td>3</td>\n",
       "      <td>Video001-Scene-003.mp4</td>\n",
       "      <td>IndoorLab</td>\n",
       "      <td>0.96</td>\n",
       "    </tr>\n",
       "    <tr>\n",
       "      <th>3</th>\n",
       "      <td>1</td>\n",
       "      <td>4</td>\n",
       "      <td>Video001-Scene-004.mp4</td>\n",
       "      <td>OutdoorGeneric</td>\n",
       "      <td>0.96</td>\n",
       "    </tr>\n",
       "    <tr>\n",
       "      <th>4</th>\n",
       "      <td>1</td>\n",
       "      <td>5</td>\n",
       "      <td>Video001-Scene-005.mp4</td>\n",
       "      <td>OutdoorLaunchpad</td>\n",
       "      <td>0.68</td>\n",
       "    </tr>\n",
       "  </tbody>\n",
       "</table>\n",
       "</div>"
      ],
      "text/plain": [
       "   Video No.  Shot No.                Filename          Category  Duration\n",
       "0          1         1  Video001-Scene-001.mp4              Logo      6.56\n",
       "1          1         2  Video001-Scene-002.mp4         Animation      1.96\n",
       "2          1         3  Video001-Scene-003.mp4         IndoorLab      0.96\n",
       "3          1         4  Video001-Scene-004.mp4    OutdoorGeneric      0.96\n",
       "4          1         5  Video001-Scene-005.mp4  OutdoorLaunchpad      0.68"
      ]
     },
     "execution_count": 2,
     "metadata": {},
     "output_type": "execute_result"
    }
   ],
   "source": [
    "df = pd.read_csv(\"VideoClassification.csv\")\n",
    "df.head()"
   ]
  },
  {
   "cell_type": "code",
   "execution_count": 3,
   "id": "36f53929",
   "metadata": {},
   "outputs": [
    {
     "name": "stdout",
     "output_type": "stream",
     "text": [
      "<class 'pandas.core.frame.DataFrame'>\n",
      "RangeIndex: 3611 entries, 0 to 3610\n",
      "Data columns (total 5 columns):\n",
      " #   Column     Non-Null Count  Dtype  \n",
      "---  ------     --------------  -----  \n",
      " 0   Video No.  3611 non-null   int64  \n",
      " 1   Shot No.   3611 non-null   int64  \n",
      " 2   Filename   3611 non-null   object \n",
      " 3   Category   3611 non-null   object \n",
      " 4   Duration   3611 non-null   float64\n",
      "dtypes: float64(1), int64(2), object(2)\n",
      "memory usage: 141.2+ KB\n"
     ]
    }
   ],
   "source": [
    "df.info()"
   ]
  },
  {
   "cell_type": "code",
   "execution_count": 4,
   "id": "863a1b24",
   "metadata": {},
   "outputs": [
    {
     "data": {
      "text/plain": [
       "(3611, 5)"
      ]
     },
     "execution_count": 4,
     "metadata": {},
     "output_type": "execute_result"
    }
   ],
   "source": [
    "df.shape"
   ]
  },
  {
   "cell_type": "code",
   "execution_count": 5,
   "id": "7332eab7",
   "metadata": {},
   "outputs": [
    {
     "data": {
      "text/html": [
       "<div>\n",
       "<style scoped>\n",
       "    .dataframe tbody tr th:only-of-type {\n",
       "        vertical-align: middle;\n",
       "    }\n",
       "\n",
       "    .dataframe tbody tr th {\n",
       "        vertical-align: top;\n",
       "    }\n",
       "\n",
       "    .dataframe thead th {\n",
       "        text-align: right;\n",
       "    }\n",
       "</style>\n",
       "<table border=\"1\" class=\"dataframe\">\n",
       "  <thead>\n",
       "    <tr style=\"text-align: right;\">\n",
       "      <th></th>\n",
       "      <th>Video No.</th>\n",
       "      <th>Shot No.</th>\n",
       "      <th>Duration</th>\n",
       "    </tr>\n",
       "  </thead>\n",
       "  <tbody>\n",
       "    <tr>\n",
       "      <th>count</th>\n",
       "      <td>3611.000000</td>\n",
       "      <td>3611.000000</td>\n",
       "      <td>3611.000000</td>\n",
       "    </tr>\n",
       "    <tr>\n",
       "      <th>mean</th>\n",
       "      <td>14.430629</td>\n",
       "      <td>105.518693</td>\n",
       "      <td>4.096361</td>\n",
       "    </tr>\n",
       "    <tr>\n",
       "      <th>std</th>\n",
       "      <td>6.842659</td>\n",
       "      <td>89.364856</td>\n",
       "      <td>8.030929</td>\n",
       "    </tr>\n",
       "    <tr>\n",
       "      <th>min</th>\n",
       "      <td>1.000000</td>\n",
       "      <td>1.000000</td>\n",
       "      <td>0.600000</td>\n",
       "    </tr>\n",
       "    <tr>\n",
       "      <th>25%</th>\n",
       "      <td>9.000000</td>\n",
       "      <td>37.000000</td>\n",
       "      <td>1.280000</td>\n",
       "    </tr>\n",
       "    <tr>\n",
       "      <th>50%</th>\n",
       "      <td>15.000000</td>\n",
       "      <td>79.000000</td>\n",
       "      <td>2.240000</td>\n",
       "    </tr>\n",
       "    <tr>\n",
       "      <th>75%</th>\n",
       "      <td>21.000000</td>\n",
       "      <td>152.000000</td>\n",
       "      <td>4.080000</td>\n",
       "    </tr>\n",
       "    <tr>\n",
       "      <th>max</th>\n",
       "      <td>25.000000</td>\n",
       "      <td>431.000000</td>\n",
       "      <td>280.000000</td>\n",
       "    </tr>\n",
       "  </tbody>\n",
       "</table>\n",
       "</div>"
      ],
      "text/plain": [
       "         Video No.     Shot No.     Duration\n",
       "count  3611.000000  3611.000000  3611.000000\n",
       "mean     14.430629   105.518693     4.096361\n",
       "std       6.842659    89.364856     8.030929\n",
       "min       1.000000     1.000000     0.600000\n",
       "25%       9.000000    37.000000     1.280000\n",
       "50%      15.000000    79.000000     2.240000\n",
       "75%      21.000000   152.000000     4.080000\n",
       "max      25.000000   431.000000   280.000000"
      ]
     },
     "execution_count": 5,
     "metadata": {},
     "output_type": "execute_result"
    }
   ],
   "source": [
    "df.describe()"
   ]
  },
  {
   "cell_type": "code",
   "execution_count": 6,
   "id": "8e446351",
   "metadata": {
    "scrolled": true
   },
   "outputs": [
    {
     "data": {
      "text/plain": [
       "30"
      ]
     },
     "execution_count": 6,
     "metadata": {},
     "output_type": "execute_result"
    }
   ],
   "source": [
    "unq_categories = df['Category'].unique()\n",
    "len(df['Category'].unique())"
   ]
  },
  {
   "cell_type": "markdown",
   "id": "86f9ab4c",
   "metadata": {},
   "source": [
    "<p>The dataset consists of 3611 videos with the 30 unique categories. It doesnot contain null values. </p>"
   ]
  },
  {
   "cell_type": "markdown",
   "id": "238eb445",
   "metadata": {},
   "source": [
    "###### Histogram for Class Labels"
   ]
  },
  {
   "cell_type": "code",
   "execution_count": 7,
   "id": "3ebbe07d",
   "metadata": {},
   "outputs": [
    {
     "data": {
      "image/png": "[encoded data removed]",
      "text/plain": [
       "<Figure size 1152x720 with 1 Axes>"
      ]
     },
     "metadata": {
      "needs_background": "light"
     },
     "output_type": "display_data"
    }
   ],
   "source": [
    "class_labels = df['Category'].value_counts().sort_values(ascending=False).index\n",
    "class_counts = df['Category'].value_counts().sort_values(ascending=False)\n",
    "\n",
    "plt.figure(figsize=(16, 10))\n",
    "plt.bar(range(len(class_labels)), class_counts)\n",
    "plt.xlabel('Category')\n",
    "plt.ylabel('Frequency')\n",
    "plt.title('Histogram of Class Labels')\n",
    "plt.xticks(range(len(class_labels)), class_labels, rotation=45)  # Rotate x-axis labels by 45 degrees\n",
    "plt.tight_layout()\n",
    "\n",
    "# Add count values as annotations\n",
    "for i, count in enumerate(class_counts):\n",
    "    plt.text(i, count, str(count), ha='center', va='bottom')\n",
    "\n",
    "plt.show()"
   ]
  },
  {
   "cell_type": "markdown",
   "id": "eac6a4df",
   "metadata": {},
   "source": [
    "<p>Here, we can observe that most of the videos are Animation, Indoorlab, OutdoorLaunchpad and there are very less videos on Airplane, Sky, Helicopter. So, we can remove those categories which have less than 10 videos</p>\n"
   ]
  },
  {
   "cell_type": "code",
   "execution_count": 8,
   "id": "b96ab688",
   "metadata": {},
   "outputs": [],
   "source": [
    "# Filter DataFrame for videos with duration greater than 5 seconds\n",
    "long_durations_df = df[df['Duration'] > 5]"
   ]
  },
  {
   "cell_type": "code",
   "execution_count": 9,
   "id": "0a4f93a8",
   "metadata": {},
   "outputs": [
    {
     "data": {
      "text/plain": [
       "(719, 5)"
      ]
     },
     "execution_count": 9,
     "metadata": {},
     "output_type": "execute_result"
    }
   ],
   "source": [
    "long_durations_df.shape"
   ]
  },
  {
   "cell_type": "code",
   "execution_count": 10,
   "id": "489b24e8",
   "metadata": {},
   "outputs": [
    {
     "data": {
      "text/html": [
       "<div>\n",
       "<style scoped>\n",
       "    .dataframe tbody tr th:only-of-type {\n",
       "        vertical-align: middle;\n",
       "    }\n",
       "\n",
       "    .dataframe tbody tr th {\n",
       "        vertical-align: top;\n",
       "    }\n",
       "\n",
       "    .dataframe thead th {\n",
       "        text-align: right;\n",
       "    }\n",
       "</style>\n",
       "<table border=\"1\" class=\"dataframe\">\n",
       "  <thead>\n",
       "    <tr style=\"text-align: right;\">\n",
       "      <th></th>\n",
       "      <th>Video No.</th>\n",
       "      <th>Shot No.</th>\n",
       "      <th>Duration</th>\n",
       "    </tr>\n",
       "  </thead>\n",
       "  <tbody>\n",
       "    <tr>\n",
       "      <th>count</th>\n",
       "      <td>719.000000</td>\n",
       "      <td>719.000000</td>\n",
       "      <td>719.000000</td>\n",
       "    </tr>\n",
       "    <tr>\n",
       "      <th>mean</th>\n",
       "      <td>15.567455</td>\n",
       "      <td>111.506259</td>\n",
       "      <td>12.410125</td>\n",
       "    </tr>\n",
       "    <tr>\n",
       "      <th>std</th>\n",
       "      <td>7.350410</td>\n",
       "      <td>104.024355</td>\n",
       "      <td>15.255844</td>\n",
       "    </tr>\n",
       "    <tr>\n",
       "      <th>min</th>\n",
       "      <td>1.000000</td>\n",
       "      <td>1.000000</td>\n",
       "      <td>5.040000</td>\n",
       "    </tr>\n",
       "    <tr>\n",
       "      <th>25%</th>\n",
       "      <td>10.000000</td>\n",
       "      <td>33.000000</td>\n",
       "      <td>6.200000</td>\n",
       "    </tr>\n",
       "    <tr>\n",
       "      <th>50%</th>\n",
       "      <td>18.000000</td>\n",
       "      <td>75.000000</td>\n",
       "      <td>8.400000</td>\n",
       "    </tr>\n",
       "    <tr>\n",
       "      <th>75%</th>\n",
       "      <td>23.000000</td>\n",
       "      <td>158.500000</td>\n",
       "      <td>13.060000</td>\n",
       "    </tr>\n",
       "    <tr>\n",
       "      <th>max</th>\n",
       "      <td>25.000000</td>\n",
       "      <td>431.000000</td>\n",
       "      <td>280.000000</td>\n",
       "    </tr>\n",
       "  </tbody>\n",
       "</table>\n",
       "</div>"
      ],
      "text/plain": [
       "        Video No.    Shot No.    Duration\n",
       "count  719.000000  719.000000  719.000000\n",
       "mean    15.567455  111.506259   12.410125\n",
       "std      7.350410  104.024355   15.255844\n",
       "min      1.000000    1.000000    5.040000\n",
       "25%     10.000000   33.000000    6.200000\n",
       "50%     18.000000   75.000000    8.400000\n",
       "75%     23.000000  158.500000   13.060000\n",
       "max     25.000000  431.000000  280.000000"
      ]
     },
     "execution_count": 10,
     "metadata": {},
     "output_type": "execute_result"
    }
   ],
   "source": [
    "long_durations_df.describe()"
   ]
  },
  {
   "cell_type": "markdown",
   "id": "2946ad7d",
   "metadata": {},
   "source": [
    "We can see that there are only 719 videos having greater that 5 seconds duration. With the small duration videos, we can't get the accurate results.It may be possible in the change of the category for every second. So, we should consider the large duration.\n",
    "Here, the average duration is 12.41 seconds and the maximum duration is 280 seconds( which means 4min 6sec)."
   ]
  },
  {
   "cell_type": "code",
   "execution_count": 11,
   "id": "84f475d1",
   "metadata": {},
   "outputs": [
    {
     "data": {
      "text/plain": [
       "26"
      ]
     },
     "execution_count": 11,
     "metadata": {},
     "output_type": "execute_result"
    }
   ],
   "source": [
    "len(long_durations_df['Category'].unique())"
   ]
  },
  {
   "cell_type": "code",
   "execution_count": 12,
   "id": "169ba611",
   "metadata": {},
   "outputs": [
    {
     "name": "stdout",
     "output_type": "stream",
     "text": [
      "The removed categories are: ['AerialView', 'Helicopter', 'IndoorHome', 'Vehicle']. These categories contain less than 5 seconds videos\n"
     ]
    }
   ],
   "source": [
    "unq_cat_longduration_df = long_durations_df['Category'].unique()\n",
    "\n",
    "removed_categories = [category for category in unq_categories if category not in unq_cat_longduration_df] \n",
    "\n",
    "print(f\"The removed categories are: {removed_categories}. These categories contain less than 5 seconds videos\")"
   ]
  },
  {
   "cell_type": "markdown",
   "id": "381a4083",
   "metadata": {},
   "source": [
    "###### Plot the Histogram for long duration videos"
   ]
  },
  {
   "cell_type": "code",
   "execution_count": 13,
   "id": "9e2dc621",
   "metadata": {},
   "outputs": [
    {
     "data": {
      "image/png": "[encoded data removed]",
      "text/plain": [
       "<Figure size 1152x720 with 1 Axes>"
      ]
     },
     "metadata": {
      "needs_background": "light"
     },
     "output_type": "display_data"
    }
   ],
   "source": [
    "class_labels = long_durations_df['Category'].value_counts().sort_values(ascending=False).index\n",
    "class_counts = long_durations_df['Category'].value_counts().sort_values(ascending=False)\n",
    "\n",
    "plt.figure(figsize=(16, 10))\n",
    "plt.bar(range(len(class_labels)), class_counts)\n",
    "plt.xlabel('Category')\n",
    "plt.ylabel('Frequency')\n",
    "plt.title('Histogram of Class Labels')\n",
    "plt.xticks(range(len(class_labels)), class_labels, rotation=45)  # Rotate x-axis labels by 45 degrees\n",
    "plt.tight_layout()\n",
    "\n",
    "# Add count values as annotations\n",
    "for i, count in enumerate(class_counts):\n",
    "    plt.text(i, count, str(count), ha='center', va='bottom')\n",
    "\n",
    "plt.show()"
   ]
  },
  {
   "cell_type": "markdown",
   "id": "d2118d37",
   "metadata": {},
   "source": [
    "Now, we can observe that the categories such as Airplane, Traffic, Sky,Hospital, OutdoorAntenna,CompositionFrame and Forest are having less than 5 videos."
   ]
  },
  {
   "cell_type": "code",
   "execution_count": 14,
   "id": "5a468dfe",
   "metadata": {},
   "outputs": [
    {
     "data": {
      "text/plain": [
       "['Forest',\n",
       " 'CompositionFrame',\n",
       " 'OutdoorAntenna',\n",
       " 'Hospital',\n",
       " 'Sky',\n",
       " 'Traffic',\n",
       " 'AirPlane']"
      ]
     },
     "execution_count": 14,
     "metadata": {},
     "output_type": "execute_result"
    }
   ],
   "source": [
    "# Get the classes that have less than 5 videos\n",
    "classes = long_durations_df['Category'].value_counts()\n",
    "classes = classes[classes < 5].index.tolist()\n",
    "classes"
   ]
  },
  {
   "cell_type": "code",
   "execution_count": 15,
   "id": "125cc58b",
   "metadata": {},
   "outputs": [
    {
     "data": {
      "text/html": [
       "<div>\n",
       "<style scoped>\n",
       "    .dataframe tbody tr th:only-of-type {\n",
       "        vertical-align: middle;\n",
       "    }\n",
       "\n",
       "    .dataframe tbody tr th {\n",
       "        vertical-align: top;\n",
       "    }\n",
       "\n",
       "    .dataframe thead th {\n",
       "        text-align: right;\n",
       "    }\n",
       "</style>\n",
       "<table border=\"1\" class=\"dataframe\">\n",
       "  <thead>\n",
       "    <tr style=\"text-align: right;\">\n",
       "      <th></th>\n",
       "      <th>Video No.</th>\n",
       "      <th>Shot No.</th>\n",
       "      <th>Filename</th>\n",
       "      <th>Category</th>\n",
       "      <th>Duration</th>\n",
       "    </tr>\n",
       "  </thead>\n",
       "  <tbody>\n",
       "    <tr>\n",
       "      <th>153</th>\n",
       "      <td>3</td>\n",
       "      <td>14</td>\n",
       "      <td>Video003-Scene-014.mp4</td>\n",
       "      <td>Forest</td>\n",
       "      <td>5.56</td>\n",
       "    </tr>\n",
       "    <tr>\n",
       "      <th>166</th>\n",
       "      <td>3</td>\n",
       "      <td>27</td>\n",
       "      <td>Video003-Scene-027.mp4</td>\n",
       "      <td>Forest</td>\n",
       "      <td>6.24</td>\n",
       "    </tr>\n",
       "    <tr>\n",
       "      <th>167</th>\n",
       "      <td>3</td>\n",
       "      <td>28</td>\n",
       "      <td>Video003-Scene-028.mp4</td>\n",
       "      <td>Forest</td>\n",
       "      <td>8.64</td>\n",
       "    </tr>\n",
       "    <tr>\n",
       "      <th>387</th>\n",
       "      <td>4</td>\n",
       "      <td>9</td>\n",
       "      <td>Video004-Scene-009.mp4</td>\n",
       "      <td>Traffic</td>\n",
       "      <td>9.68</td>\n",
       "    </tr>\n",
       "    <tr>\n",
       "      <th>570</th>\n",
       "      <td>6</td>\n",
       "      <td>62</td>\n",
       "      <td>Video006-Scene-062.mp4</td>\n",
       "      <td>OutdoorAntenna</td>\n",
       "      <td>8.68</td>\n",
       "    </tr>\n",
       "  </tbody>\n",
       "</table>\n",
       "</div>"
      ],
      "text/plain": [
       "     Video No.  Shot No.                Filename        Category  Duration\n",
       "153          3        14  Video003-Scene-014.mp4          Forest      5.56\n",
       "166          3        27  Video003-Scene-027.mp4          Forest      6.24\n",
       "167          3        28  Video003-Scene-028.mp4          Forest      8.64\n",
       "387          4         9  Video004-Scene-009.mp4         Traffic      9.68\n",
       "570          6        62  Video006-Scene-062.mp4  OutdoorAntenna      8.68"
      ]
     },
     "execution_count": 15,
     "metadata": {},
     "output_type": "execute_result"
    }
   ],
   "source": [
    "check_duration_df = long_durations_df[long_durations_df['Category'].isin(classes)]\n",
    "check_duration_df.head()"
   ]
  },
  {
   "cell_type": "code",
   "execution_count": 16,
   "id": "8d1381a2",
   "metadata": {},
   "outputs": [
    {
     "data": {
      "text/html": [
       "<div>\n",
       "<style scoped>\n",
       "    .dataframe tbody tr th:only-of-type {\n",
       "        vertical-align: middle;\n",
       "    }\n",
       "\n",
       "    .dataframe tbody tr th {\n",
       "        vertical-align: top;\n",
       "    }\n",
       "\n",
       "    .dataframe thead th {\n",
       "        text-align: right;\n",
       "    }\n",
       "</style>\n",
       "<table border=\"1\" class=\"dataframe\">\n",
       "  <thead>\n",
       "    <tr style=\"text-align: right;\">\n",
       "      <th></th>\n",
       "      <th>Video No.</th>\n",
       "      <th>Shot No.</th>\n",
       "      <th>Duration</th>\n",
       "    </tr>\n",
       "  </thead>\n",
       "  <tbody>\n",
       "    <tr>\n",
       "      <th>count</th>\n",
       "      <td>15.000000</td>\n",
       "      <td>15.000000</td>\n",
       "      <td>15.000000</td>\n",
       "    </tr>\n",
       "    <tr>\n",
       "      <th>mean</th>\n",
       "      <td>12.400000</td>\n",
       "      <td>87.533333</td>\n",
       "      <td>7.912000</td>\n",
       "    </tr>\n",
       "    <tr>\n",
       "      <th>std</th>\n",
       "      <td>8.424454</td>\n",
       "      <td>90.497724</td>\n",
       "      <td>2.917424</td>\n",
       "    </tr>\n",
       "    <tr>\n",
       "      <th>min</th>\n",
       "      <td>3.000000</td>\n",
       "      <td>9.000000</td>\n",
       "      <td>5.080000</td>\n",
       "    </tr>\n",
       "    <tr>\n",
       "      <th>25%</th>\n",
       "      <td>5.000000</td>\n",
       "      <td>24.000000</td>\n",
       "      <td>6.060000</td>\n",
       "    </tr>\n",
       "    <tr>\n",
       "      <th>50%</th>\n",
       "      <td>8.000000</td>\n",
       "      <td>55.000000</td>\n",
       "      <td>6.560000</td>\n",
       "    </tr>\n",
       "    <tr>\n",
       "      <th>75%</th>\n",
       "      <td>21.000000</td>\n",
       "      <td>128.000000</td>\n",
       "      <td>8.900000</td>\n",
       "    </tr>\n",
       "    <tr>\n",
       "      <th>max</th>\n",
       "      <td>24.000000</td>\n",
       "      <td>273.000000</td>\n",
       "      <td>15.280000</td>\n",
       "    </tr>\n",
       "  </tbody>\n",
       "</table>\n",
       "</div>"
      ],
      "text/plain": [
       "       Video No.    Shot No.   Duration\n",
       "count  15.000000   15.000000  15.000000\n",
       "mean   12.400000   87.533333   7.912000\n",
       "std     8.424454   90.497724   2.917424\n",
       "min     3.000000    9.000000   5.080000\n",
       "25%     5.000000   24.000000   6.060000\n",
       "50%     8.000000   55.000000   6.560000\n",
       "75%    21.000000  128.000000   8.900000\n",
       "max    24.000000  273.000000  15.280000"
      ]
     },
     "execution_count": 16,
     "metadata": {},
     "output_type": "execute_result"
    }
   ],
   "source": [
    "check_duration_df.describe()"
   ]
  },
  {
   "cell_type": "markdown",
   "id": "b9487e67",
   "metadata": {},
   "source": [
    "Here, The categories which has less than 5 videos having 7.9 seconds average duration."
   ]
  },
  {
   "cell_type": "markdown",
   "id": "3365787e",
   "metadata": {},
   "source": [
    "## Feature Engineering"
   ]
  },
  {
   "cell_type": "markdown",
   "id": "a699b388",
   "metadata": {},
   "source": [
    "Let's consider only set of videos which are having greater than 5 seconds duration and having each category should contain at least 5 videos."
   ]
  },
  {
   "cell_type": "markdown",
   "id": "c7c2c916",
   "metadata": {},
   "source": [
    "So, we can remove some of the categories that have less than 5 videos "
   ]
  },
  {
   "cell_type": "code",
   "execution_count": 17,
   "id": "3102c6dd",
   "metadata": {
    "scrolled": true
   },
   "outputs": [
    {
     "name": "stdout",
     "output_type": "stream",
     "text": [
      "['Forest', 'CompositionFrame', 'OutdoorAntenna', 'Hospital', 'Sky', 'Traffic', 'AirPlane']\n"
     ]
    }
   ],
   "source": [
    "# Get the classes that have less than 5 videos\n",
    "classes = long_durations_df['Category'].value_counts()\n",
    "classes = classes[classes < 5].index.tolist()\n",
    "print(classes)"
   ]
  },
  {
   "cell_type": "code",
   "execution_count": 18,
   "id": "cb6c0936",
   "metadata": {},
   "outputs": [],
   "source": [
    "final_df = long_durations_df[~long_durations_df['Category'].isin(classes)]"
   ]
  },
  {
   "cell_type": "code",
   "execution_count": 19,
   "id": "517027c4",
   "metadata": {},
   "outputs": [
    {
     "data": {
      "text/html": [
       "<div>\n",
       "<style scoped>\n",
       "    .dataframe tbody tr th:only-of-type {\n",
       "        vertical-align: middle;\n",
       "    }\n",
       "\n",
       "    .dataframe tbody tr th {\n",
       "        vertical-align: top;\n",
       "    }\n",
       "\n",
       "    .dataframe thead th {\n",
       "        text-align: right;\n",
       "    }\n",
       "</style>\n",
       "<table border=\"1\" class=\"dataframe\">\n",
       "  <thead>\n",
       "    <tr style=\"text-align: right;\">\n",
       "      <th></th>\n",
       "      <th>Video No.</th>\n",
       "      <th>Shot No.</th>\n",
       "      <th>Filename</th>\n",
       "      <th>Category</th>\n",
       "      <th>Duration</th>\n",
       "    </tr>\n",
       "  </thead>\n",
       "  <tbody>\n",
       "    <tr>\n",
       "      <th>0</th>\n",
       "      <td>1</td>\n",
       "      <td>1</td>\n",
       "      <td>Video001-Scene-001.mp4</td>\n",
       "      <td>Logo</td>\n",
       "      <td>6.56</td>\n",
       "    </tr>\n",
       "    <tr>\n",
       "      <th>15</th>\n",
       "      <td>1</td>\n",
       "      <td>16</td>\n",
       "      <td>Video001-Scene-016.mp4</td>\n",
       "      <td>OutdoorLaunchpad</td>\n",
       "      <td>6.44</td>\n",
       "    </tr>\n",
       "    <tr>\n",
       "      <th>16</th>\n",
       "      <td>1</td>\n",
       "      <td>17</td>\n",
       "      <td>Video001-Scene-017.mp4</td>\n",
       "      <td>OutdoorLaunchpad</td>\n",
       "      <td>5.40</td>\n",
       "    </tr>\n",
       "    <tr>\n",
       "      <th>18</th>\n",
       "      <td>1</td>\n",
       "      <td>19</td>\n",
       "      <td>Video001-Scene-019.mp4</td>\n",
       "      <td>Animation</td>\n",
       "      <td>14.16</td>\n",
       "    </tr>\n",
       "    <tr>\n",
       "      <th>24</th>\n",
       "      <td>1</td>\n",
       "      <td>25</td>\n",
       "      <td>Video001-Scene-025.mp4</td>\n",
       "      <td>Graphics</td>\n",
       "      <td>10.00</td>\n",
       "    </tr>\n",
       "  </tbody>\n",
       "</table>\n",
       "</div>"
      ],
      "text/plain": [
       "    Video No.  Shot No.                Filename          Category  Duration\n",
       "0           1         1  Video001-Scene-001.mp4              Logo      6.56\n",
       "15          1        16  Video001-Scene-016.mp4  OutdoorLaunchpad      6.44\n",
       "16          1        17  Video001-Scene-017.mp4  OutdoorLaunchpad      5.40\n",
       "18          1        19  Video001-Scene-019.mp4         Animation     14.16\n",
       "24          1        25  Video001-Scene-025.mp4          Graphics     10.00"
      ]
     },
     "execution_count": 19,
     "metadata": {},
     "output_type": "execute_result"
    }
   ],
   "source": [
    "final_df.head()"
   ]
  },
  {
   "cell_type": "code",
   "execution_count": 20,
   "id": "b91bab73",
   "metadata": {},
   "outputs": [
    {
     "data": {
      "text/plain": [
       "(704, 5)"
      ]
     },
     "execution_count": 20,
     "metadata": {},
     "output_type": "execute_result"
    }
   ],
   "source": [
    "final_df.shape"
   ]
  },
  {
   "cell_type": "code",
   "execution_count": 21,
   "id": "c74b8649",
   "metadata": {},
   "outputs": [
    {
     "name": "stdout",
     "output_type": "stream",
     "text": [
      "<class 'pandas.core.frame.DataFrame'>\n",
      "Int64Index: 704 entries, 0 to 3609\n",
      "Data columns (total 5 columns):\n",
      " #   Column     Non-Null Count  Dtype  \n",
      "---  ------     --------------  -----  \n",
      " 0   Video No.  704 non-null    int64  \n",
      " 1   Shot No.   704 non-null    int64  \n",
      " 2   Filename   704 non-null    object \n",
      " 3   Category   704 non-null    object \n",
      " 4   Duration   704 non-null    float64\n",
      "dtypes: float64(1), int64(2), object(2)\n",
      "memory usage: 33.0+ KB\n"
     ]
    }
   ],
   "source": [
    "final_df.info()"
   ]
  },
  {
   "cell_type": "code",
   "execution_count": 22,
   "id": "7dad24f4",
   "metadata": {},
   "outputs": [
    {
     "data": {
      "text/html": [
       "<div>\n",
       "<style scoped>\n",
       "    .dataframe tbody tr th:only-of-type {\n",
       "        vertical-align: middle;\n",
       "    }\n",
       "\n",
       "    .dataframe tbody tr th {\n",
       "        vertical-align: top;\n",
       "    }\n",
       "\n",
       "    .dataframe thead th {\n",
       "        text-align: right;\n",
       "    }\n",
       "</style>\n",
       "<table border=\"1\" class=\"dataframe\">\n",
       "  <thead>\n",
       "    <tr style=\"text-align: right;\">\n",
       "      <th></th>\n",
       "      <th>Video No.</th>\n",
       "      <th>Shot No.</th>\n",
       "      <th>Duration</th>\n",
       "    </tr>\n",
       "  </thead>\n",
       "  <tbody>\n",
       "    <tr>\n",
       "      <th>count</th>\n",
       "      <td>704.000000</td>\n",
       "      <td>704.000000</td>\n",
       "      <td>704.000000</td>\n",
       "    </tr>\n",
       "    <tr>\n",
       "      <th>mean</th>\n",
       "      <td>15.634943</td>\n",
       "      <td>112.017045</td>\n",
       "      <td>12.505966</td>\n",
       "    </tr>\n",
       "    <tr>\n",
       "      <th>std</th>\n",
       "      <td>7.317741</td>\n",
       "      <td>104.289671</td>\n",
       "      <td>15.397934</td>\n",
       "    </tr>\n",
       "    <tr>\n",
       "      <th>min</th>\n",
       "      <td>1.000000</td>\n",
       "      <td>1.000000</td>\n",
       "      <td>5.040000</td>\n",
       "    </tr>\n",
       "    <tr>\n",
       "      <th>25%</th>\n",
       "      <td>10.000000</td>\n",
       "      <td>34.000000</td>\n",
       "      <td>6.200000</td>\n",
       "    </tr>\n",
       "    <tr>\n",
       "      <th>50%</th>\n",
       "      <td>18.000000</td>\n",
       "      <td>75.000000</td>\n",
       "      <td>8.440000</td>\n",
       "    </tr>\n",
       "    <tr>\n",
       "      <th>75%</th>\n",
       "      <td>23.000000</td>\n",
       "      <td>159.000000</td>\n",
       "      <td>13.140000</td>\n",
       "    </tr>\n",
       "    <tr>\n",
       "      <th>max</th>\n",
       "      <td>25.000000</td>\n",
       "      <td>431.000000</td>\n",
       "      <td>280.000000</td>\n",
       "    </tr>\n",
       "  </tbody>\n",
       "</table>\n",
       "</div>"
      ],
      "text/plain": [
       "        Video No.    Shot No.    Duration\n",
       "count  704.000000  704.000000  704.000000\n",
       "mean    15.634943  112.017045   12.505966\n",
       "std      7.317741  104.289671   15.397934\n",
       "min      1.000000    1.000000    5.040000\n",
       "25%     10.000000   34.000000    6.200000\n",
       "50%     18.000000   75.000000    8.440000\n",
       "75%     23.000000  159.000000   13.140000\n",
       "max     25.000000  431.000000  280.000000"
      ]
     },
     "execution_count": 22,
     "metadata": {},
     "output_type": "execute_result"
    }
   ],
   "source": [
    "final_df.describe()"
   ]
  },
  {
   "cell_type": "code",
   "execution_count": 23,
   "id": "f1259ff1",
   "metadata": {},
   "outputs": [
    {
     "name": "stdout",
     "output_type": "stream",
     "text": [
      "Final Categories are: ['Logo' 'OutdoorLaunchpad' 'Animation' 'Graphics' 'Text' 'Interview'\n",
      " 'Launch' 'IndoorLab' 'OutdoorGeneric' 'Satellite' 'Mountain' 'Speech'\n",
      " 'PersonCloseUp' 'DisplayScreen' 'Building' 'Crowd' 'IndoorGeneric'\n",
      " 'Garden' 'IndoorControlRoom']\n",
      "\n",
      "No.of Categories are : 19\n"
     ]
    }
   ],
   "source": [
    "print(f\"Final Categories are: {final_df['Category'].unique()}\\n\")\n",
    "print(f\"No.of Categories are : {len(final_df['Category'].unique())}\")"
   ]
  },
  {
   "cell_type": "code",
   "execution_count": 76,
   "id": "5f27ee60",
   "metadata": {},
   "outputs": [],
   "source": [
    "final_df.to_csv(\"VideoClassificationFinal.csv\", index = False)"
   ]
  },
  {
   "cell_type": "code",
   "execution_count": 24,
   "id": "a1a9840d",
   "metadata": {},
   "outputs": [],
   "source": [
    "# Get the FPS rate of the video\n",
    "def get_fps_rate(video_file_path):\n",
    "    video_path = video_file_path\n",
    "    video = cv2.VideoCapture(video_path)\n",
    "    # Check if the video file was successfully opened\n",
    "    if not video.isOpened():\n",
    "        print(\"Error opening video file\")\n",
    "\n",
    "    # Get the frames per second (FPS) rate of the video\n",
    "    fps = video.get(cv2.CAP_PROP_FPS)\n",
    "    # Release the video file\n",
    "    video.release()\n",
    "    return fps"
   ]
  },
  {
   "cell_type": "code",
   "execution_count": 25,
   "id": "f159038f",
   "metadata": {},
   "outputs": [
    {
     "data": {
      "text/html": [
       "<div>\n",
       "<style scoped>\n",
       "    .dataframe tbody tr th:only-of-type {\n",
       "        vertical-align: middle;\n",
       "    }\n",
       "\n",
       "    .dataframe tbody tr th {\n",
       "        vertical-align: top;\n",
       "    }\n",
       "\n",
       "    .dataframe thead th {\n",
       "        text-align: right;\n",
       "    }\n",
       "</style>\n",
       "<table border=\"1\" class=\"dataframe\">\n",
       "  <thead>\n",
       "    <tr style=\"text-align: right;\">\n",
       "      <th></th>\n",
       "      <th>Video No.</th>\n",
       "      <th>Shot No.</th>\n",
       "      <th>Filename</th>\n",
       "      <th>Category</th>\n",
       "      <th>Duration</th>\n",
       "    </tr>\n",
       "  </thead>\n",
       "  <tbody>\n",
       "    <tr>\n",
       "      <th>0</th>\n",
       "      <td>1</td>\n",
       "      <td>1</td>\n",
       "      <td>Video001-Scene-001.mp4</td>\n",
       "      <td>Logo</td>\n",
       "      <td>6.56</td>\n",
       "    </tr>\n",
       "    <tr>\n",
       "      <th>15</th>\n",
       "      <td>1</td>\n",
       "      <td>16</td>\n",
       "      <td>Video001-Scene-016.mp4</td>\n",
       "      <td>OutdoorLaunchpad</td>\n",
       "      <td>6.44</td>\n",
       "    </tr>\n",
       "    <tr>\n",
       "      <th>16</th>\n",
       "      <td>1</td>\n",
       "      <td>17</td>\n",
       "      <td>Video001-Scene-017.mp4</td>\n",
       "      <td>OutdoorLaunchpad</td>\n",
       "      <td>5.40</td>\n",
       "    </tr>\n",
       "    <tr>\n",
       "      <th>18</th>\n",
       "      <td>1</td>\n",
       "      <td>19</td>\n",
       "      <td>Video001-Scene-019.mp4</td>\n",
       "      <td>Animation</td>\n",
       "      <td>14.16</td>\n",
       "    </tr>\n",
       "    <tr>\n",
       "      <th>24</th>\n",
       "      <td>1</td>\n",
       "      <td>25</td>\n",
       "      <td>Video001-Scene-025.mp4</td>\n",
       "      <td>Graphics</td>\n",
       "      <td>10.00</td>\n",
       "    </tr>\n",
       "  </tbody>\n",
       "</table>\n",
       "</div>"
      ],
      "text/plain": [
       "    Video No.  Shot No.                Filename          Category  Duration\n",
       "0           1         1  Video001-Scene-001.mp4              Logo      6.56\n",
       "15          1        16  Video001-Scene-016.mp4  OutdoorLaunchpad      6.44\n",
       "16          1        17  Video001-Scene-017.mp4  OutdoorLaunchpad      5.40\n",
       "18          1        19  Video001-Scene-019.mp4         Animation     14.16\n",
       "24          1        25  Video001-Scene-025.mp4          Graphics     10.00"
      ]
     },
     "execution_count": 25,
     "metadata": {},
     "output_type": "execute_result"
    }
   ],
   "source": [
    "sample_df = final_df.head()\n",
    "sample_df"
   ]
  },
  {
   "cell_type": "markdown",
   "id": "b0a6721d",
   "metadata": {},
   "source": [
    "##### Store these files in a seperate folder for each category"
   ]
  },
  {
   "cell_type": "code",
   "execution_count": 101,
   "id": "cc0c1ecc",
   "metadata": {},
   "outputs": [],
   "source": [
    "base_dir = os.getcwd()\n",
    "video_dir = os.path.join(base_dir, \"Videos\\\\Videos\")\n",
    "\n",
    "output_dir = os.path.join(base_dir, \"FinalVideos\")\n",
    "for index,row in final_df.iterrows():\n",
    "    filename = row['Filename']\n",
    "    category = row['Category']\n",
    "    \n",
    "    # Create  a directory for the each category\n",
    "    category_dir = os.path.join(output_dir, category)\n",
    "    if not os.path.exists(category_dir):\n",
    "        os.makedirs(category_dir)\n",
    "    \n",
    "    source_path = os.path.join(video_dir, filename)\n",
    "    destination_path = os.path.join(category_dir, os.path.basename(filename))\n",
    "    \n",
    "    shutil.copy(source_path, destination_path)"
   ]
  },
  {
   "cell_type": "code",
   "execution_count": 26,
   "id": "14d70d89",
   "metadata": {},
   "outputs": [
    {
     "name": "stderr",
     "output_type": "stream",
     "text": [
      "C:\\Users\\Sheela Sai kumar\\AppData\\Local\\Temp\\ipykernel_18992\\657163122.py:43: FutureWarning: The frame.append method is deprecated and will be removed from pandas in a future version. Use pandas.concat instead.\n",
      "  stored_files_df = stored_files_df.append({'Filename': filename, 'Category': category, 'Destination': destination_path},\n",
      "C:\\Users\\Sheela Sai kumar\\AppData\\Local\\Temp\\ipykernel_18992\\657163122.py:43: FutureWarning: The frame.append method is deprecated and will be removed from pandas in a future version. Use pandas.concat instead.\n",
      "  stored_files_df = stored_files_df.append({'Filename': filename, 'Category': category, 'Destination': destination_path},\n",
      "C:\\Users\\Sheela Sai kumar\\AppData\\Local\\Temp\\ipykernel_18992\\657163122.py:43: FutureWarning: The frame.append method is deprecated and will be removed from pandas in a future version. Use pandas.concat instead.\n",
      "  stored_files_df = stored_files_df.append({'Filename': filename, 'Category': category, 'Destination': destination_path},\n",
      "C:\\Users\\Sheela Sai kumar\\AppData\\Local\\Temp\\ipykernel_18992\\657163122.py:43: FutureWarning: The frame.append method is deprecated and will be removed from pandas in a future version. Use pandas.concat instead.\n",
      "  stored_files_df = stored_files_df.append({'Filename': filename, 'Category': category, 'Destination': destination_path},\n",
      "C:\\Users\\Sheela Sai kumar\\AppData\\Local\\Temp\\ipykernel_18992\\657163122.py:43: FutureWarning: The frame.append method is deprecated and will be removed from pandas in a future version. Use pandas.concat instead.\n",
      "  stored_files_df = stored_files_df.append({'Filename': filename, 'Category': category, 'Destination': destination_path},\n",
      "C:\\Users\\Sheela Sai kumar\\AppData\\Local\\Temp\\ipykernel_18992\\657163122.py:43: FutureWarning: The frame.append method is deprecated and will be removed from pandas in a future version. Use pandas.concat instead.\n",
      "  stored_files_df = stored_files_df.append({'Filename': filename, 'Category': category, 'Destination': destination_path},\n",
      "C:\\Users\\Sheela Sai kumar\\AppData\\Local\\Temp\\ipykernel_18992\\657163122.py:43: FutureWarning: The frame.append method is deprecated and will be removed from pandas in a future version. Use pandas.concat instead.\n",
      "  stored_files_df = stored_files_df.append({'Filename': filename, 'Category': category, 'Destination': destination_path},\n",
      "C:\\Users\\Sheela Sai kumar\\AppData\\Local\\Temp\\ipykernel_18992\\657163122.py:43: FutureWarning: The frame.append method is deprecated and will be removed from pandas in a future version. Use pandas.concat instead.\n",
      "  stored_files_df = stored_files_df.append({'Filename': filename, 'Category': category, 'Destination': destination_path},\n",
      "C:\\Users\\Sheela Sai kumar\\AppData\\Local\\Temp\\ipykernel_18992\\657163122.py:43: FutureWarning: The frame.append method is deprecated and will be removed from pandas in a future version. Use pandas.concat instead.\n",
      "  stored_files_df = stored_files_df.append({'Filename': filename, 'Category': category, 'Destination': destination_path},\n",
      "C:\\Users\\Sheela Sai kumar\\AppData\\Local\\Temp\\ipykernel_18992\\657163122.py:43: FutureWarning: The frame.append method is deprecated and will be removed from pandas in a future version. Use pandas.concat instead.\n",
      "  stored_files_df = stored_files_df.append({'Filename': filename, 'Category': category, 'Destination': destination_path},\n",
      "C:\\Users\\Sheela Sai kumar\\AppData\\Local\\Temp\\ipykernel_18992\\657163122.py:43: FutureWarning: The frame.append method is deprecated and will be removed from pandas in a future version. Use pandas.concat instead.\n",
      "  stored_files_df = stored_files_df.append({'Filename': filename, 'Category': category, 'Destination': destination_path},\n",
      "C:\\Users\\Sheela Sai kumar\\AppData\\Local\\Temp\\ipykernel_18992\\657163122.py:43: FutureWarning: The frame.append method is deprecated and will be removed from pandas in a future version. Use pandas.concat instead.\n",
      "  stored_files_df = stored_files_df.append({'Filename': filename, 'Category': category, 'Destination': destination_path},\n",
      "C:\\Users\\Sheela Sai kumar\\AppData\\Local\\Temp\\ipykernel_18992\\657163122.py:43: FutureWarning: The frame.append method is deprecated and will be removed from pandas in a future version. Use pandas.concat instead.\n",
      "  stored_files_df = stored_files_df.append({'Filename': filename, 'Category': category, 'Destination': destination_path},\n",
      "C:\\Users\\Sheela Sai kumar\\AppData\\Local\\Temp\\ipykernel_18992\\657163122.py:43: FutureWarning: The frame.append method is deprecated and will be removed from pandas in a future version. Use pandas.concat instead.\n",
      "  stored_files_df = stored_files_df.append({'Filename': filename, 'Category': category, 'Destination': destination_path},\n",
      "C:\\Users\\Sheela Sai kumar\\AppData\\Local\\Temp\\ipykernel_18992\\657163122.py:43: FutureWarning: The frame.append method is deprecated and will be removed from pandas in a future version. Use pandas.concat instead.\n",
      "  stored_files_df = stored_files_df.append({'Filename': filename, 'Category': category, 'Destination': destination_path},\n",
      "C:\\Users\\Sheela Sai kumar\\AppData\\Local\\Temp\\ipykernel_18992\\657163122.py:43: FutureWarning: The frame.append method is deprecated and will be removed from pandas in a future version. Use pandas.concat instead.\n",
      "  stored_files_df = stored_files_df.append({'Filename': filename, 'Category': category, 'Destination': destination_path},\n",
      "C:\\Users\\Sheela Sai kumar\\AppData\\Local\\Temp\\ipykernel_18992\\657163122.py:43: FutureWarning: The frame.append method is deprecated and will be removed from pandas in a future version. Use pandas.concat instead.\n",
      "  stored_files_df = stored_files_df.append({'Filename': filename, 'Category': category, 'Destination': destination_path},\n",
      "C:\\Users\\Sheela Sai kumar\\AppData\\Local\\Temp\\ipykernel_18992\\657163122.py:43: FutureWarning: The frame.append method is deprecated and will be removed from pandas in a future version. Use pandas.concat instead.\n",
      "  stored_files_df = stored_files_df.append({'Filename': filename, 'Category': category, 'Destination': destination_path},\n",
      "C:\\Users\\Sheela Sai kumar\\AppData\\Local\\Temp\\ipykernel_18992\\657163122.py:43: FutureWarning: The frame.append method is deprecated and will be removed from pandas in a future version. Use pandas.concat instead.\n",
      "  stored_files_df = stored_files_df.append({'Filename': filename, 'Category': category, 'Destination': destination_path},\n",
      "C:\\Users\\Sheela Sai kumar\\AppData\\Local\\Temp\\ipykernel_18992\\657163122.py:43: FutureWarning: The frame.append method is deprecated and will be removed from pandas in a future version. Use pandas.concat instead.\n",
      "  stored_files_df = stored_files_df.append({'Filename': filename, 'Category': category, 'Destination': destination_path},\n",
      "C:\\Users\\Sheela Sai kumar\\AppData\\Local\\Temp\\ipykernel_18992\\657163122.py:43: FutureWarning: The frame.append method is deprecated and will be removed from pandas in a future version. Use pandas.concat instead.\n",
      "  stored_files_df = stored_files_df.append({'Filename': filename, 'Category': category, 'Destination': destination_path},\n",
      "C:\\Users\\Sheela Sai kumar\\AppData\\Local\\Temp\\ipykernel_18992\\657163122.py:43: FutureWarning: The frame.append method is deprecated and will be removed from pandas in a future version. Use pandas.concat instead.\n",
      "  stored_files_df = stored_files_df.append({'Filename': filename, 'Category': category, 'Destination': destination_path},\n",
      "C:\\Users\\Sheela Sai kumar\\AppData\\Local\\Temp\\ipykernel_18992\\657163122.py:43: FutureWarning: The frame.append method is deprecated and will be removed from pandas in a future version. Use pandas.concat instead.\n",
      "  stored_files_df = stored_files_df.append({'Filename': filename, 'Category': category, 'Destination': destination_path},\n",
      "C:\\Users\\Sheela Sai kumar\\AppData\\Local\\Temp\\ipykernel_18992\\657163122.py:43: FutureWarning: The frame.append method is deprecated and will be removed from pandas in a future version. Use pandas.concat instead.\n",
      "  stored_files_df = stored_files_df.append({'Filename': filename, 'Category': category, 'Destination': destination_path},\n",
      "C:\\Users\\Sheela Sai kumar\\AppData\\Local\\Temp\\ipykernel_18992\\657163122.py:43: FutureWarning: The frame.append method is deprecated and will be removed from pandas in a future version. Use pandas.concat instead.\n",
      "  stored_files_df = stored_files_df.append({'Filename': filename, 'Category': category, 'Destination': destination_path},\n",
      "C:\\Users\\Sheela Sai kumar\\AppData\\Local\\Temp\\ipykernel_18992\\657163122.py:43: FutureWarning: The frame.append method is deprecated and will be removed from pandas in a future version. Use pandas.concat instead.\n",
      "  stored_files_df = stored_files_df.append({'Filename': filename, 'Category': category, 'Destination': destination_path},\n",
      "C:\\Users\\Sheela Sai kumar\\AppData\\Local\\Temp\\ipykernel_18992\\657163122.py:43: FutureWarning: The frame.append method is deprecated and will be removed from pandas in a future version. Use pandas.concat instead.\n",
      "  stored_files_df = stored_files_df.append({'Filename': filename, 'Category': category, 'Destination': destination_path},\n"
     ]
    },
    {
     "name": "stderr",
     "output_type": "stream",
     "text": [
      "C:\\Users\\Sheela Sai kumar\\AppData\\Local\\Temp\\ipykernel_18992\\657163122.py:43: FutureWarning: The frame.append method is deprecated and will be removed from pandas in a future version. Use pandas.concat instead.\n",
      "  stored_files_df = stored_files_df.append({'Filename': filename, 'Category': category, 'Destination': destination_path},\n",
      "C:\\Users\\Sheela Sai kumar\\AppData\\Local\\Temp\\ipykernel_18992\\657163122.py:43: FutureWarning: The frame.append method is deprecated and will be removed from pandas in a future version. Use pandas.concat instead.\n",
      "  stored_files_df = stored_files_df.append({'Filename': filename, 'Category': category, 'Destination': destination_path},\n",
      "C:\\Users\\Sheela Sai kumar\\AppData\\Local\\Temp\\ipykernel_18992\\657163122.py:43: FutureWarning: The frame.append method is deprecated and will be removed from pandas in a future version. Use pandas.concat instead.\n",
      "  stored_files_df = stored_files_df.append({'Filename': filename, 'Category': category, 'Destination': destination_path},\n",
      "C:\\Users\\Sheela Sai kumar\\AppData\\Local\\Temp\\ipykernel_18992\\657163122.py:43: FutureWarning: The frame.append method is deprecated and will be removed from pandas in a future version. Use pandas.concat instead.\n",
      "  stored_files_df = stored_files_df.append({'Filename': filename, 'Category': category, 'Destination': destination_path},\n",
      "C:\\Users\\Sheela Sai kumar\\AppData\\Local\\Temp\\ipykernel_18992\\657163122.py:43: FutureWarning: The frame.append method is deprecated and will be removed from pandas in a future version. Use pandas.concat instead.\n",
      "  stored_files_df = stored_files_df.append({'Filename': filename, 'Category': category, 'Destination': destination_path},\n",
      "C:\\Users\\Sheela Sai kumar\\AppData\\Local\\Temp\\ipykernel_18992\\657163122.py:43: FutureWarning: The frame.append method is deprecated and will be removed from pandas in a future version. Use pandas.concat instead.\n",
      "  stored_files_df = stored_files_df.append({'Filename': filename, 'Category': category, 'Destination': destination_path},\n",
      "C:\\Users\\Sheela Sai kumar\\AppData\\Local\\Temp\\ipykernel_18992\\657163122.py:43: FutureWarning: The frame.append method is deprecated and will be removed from pandas in a future version. Use pandas.concat instead.\n",
      "  stored_files_df = stored_files_df.append({'Filename': filename, 'Category': category, 'Destination': destination_path},\n",
      "C:\\Users\\Sheela Sai kumar\\AppData\\Local\\Temp\\ipykernel_18992\\657163122.py:43: FutureWarning: The frame.append method is deprecated and will be removed from pandas in a future version. Use pandas.concat instead.\n",
      "  stored_files_df = stored_files_df.append({'Filename': filename, 'Category': category, 'Destination': destination_path},\n",
      "C:\\Users\\Sheela Sai kumar\\AppData\\Local\\Temp\\ipykernel_18992\\657163122.py:43: FutureWarning: The frame.append method is deprecated and will be removed from pandas in a future version. Use pandas.concat instead.\n",
      "  stored_files_df = stored_files_df.append({'Filename': filename, 'Category': category, 'Destination': destination_path},\n",
      "C:\\Users\\Sheela Sai kumar\\AppData\\Local\\Temp\\ipykernel_18992\\657163122.py:43: FutureWarning: The frame.append method is deprecated and will be removed from pandas in a future version. Use pandas.concat instead.\n",
      "  stored_files_df = stored_files_df.append({'Filename': filename, 'Category': category, 'Destination': destination_path},\n",
      "C:\\Users\\Sheela Sai kumar\\AppData\\Local\\Temp\\ipykernel_18992\\657163122.py:43: FutureWarning: The frame.append method is deprecated and will be removed from pandas in a future version. Use pandas.concat instead.\n",
      "  stored_files_df = stored_files_df.append({'Filename': filename, 'Category': category, 'Destination': destination_path},\n",
      "C:\\Users\\Sheela Sai kumar\\AppData\\Local\\Temp\\ipykernel_18992\\657163122.py:43: FutureWarning: The frame.append method is deprecated and will be removed from pandas in a future version. Use pandas.concat instead.\n",
      "  stored_files_df = stored_files_df.append({'Filename': filename, 'Category': category, 'Destination': destination_path},\n",
      "C:\\Users\\Sheela Sai kumar\\AppData\\Local\\Temp\\ipykernel_18992\\657163122.py:43: FutureWarning: The frame.append method is deprecated and will be removed from pandas in a future version. Use pandas.concat instead.\n",
      "  stored_files_df = stored_files_df.append({'Filename': filename, 'Category': category, 'Destination': destination_path},\n",
      "C:\\Users\\Sheela Sai kumar\\AppData\\Local\\Temp\\ipykernel_18992\\657163122.py:43: FutureWarning: The frame.append method is deprecated and will be removed from pandas in a future version. Use pandas.concat instead.\n",
      "  stored_files_df = stored_files_df.append({'Filename': filename, 'Category': category, 'Destination': destination_path},\n",
      "C:\\Users\\Sheela Sai kumar\\AppData\\Local\\Temp\\ipykernel_18992\\657163122.py:43: FutureWarning: The frame.append method is deprecated and will be removed from pandas in a future version. Use pandas.concat instead.\n",
      "  stored_files_df = stored_files_df.append({'Filename': filename, 'Category': category, 'Destination': destination_path},\n",
      "C:\\Users\\Sheela Sai kumar\\AppData\\Local\\Temp\\ipykernel_18992\\657163122.py:43: FutureWarning: The frame.append method is deprecated and will be removed from pandas in a future version. Use pandas.concat instead.\n",
      "  stored_files_df = stored_files_df.append({'Filename': filename, 'Category': category, 'Destination': destination_path},\n",
      "C:\\Users\\Sheela Sai kumar\\AppData\\Local\\Temp\\ipykernel_18992\\657163122.py:43: FutureWarning: The frame.append method is deprecated and will be removed from pandas in a future version. Use pandas.concat instead.\n",
      "  stored_files_df = stored_files_df.append({'Filename': filename, 'Category': category, 'Destination': destination_path},\n",
      "C:\\Users\\Sheela Sai kumar\\AppData\\Local\\Temp\\ipykernel_18992\\657163122.py:43: FutureWarning: The frame.append method is deprecated and will be removed from pandas in a future version. Use pandas.concat instead.\n",
      "  stored_files_df = stored_files_df.append({'Filename': filename, 'Category': category, 'Destination': destination_path},\n",
      "C:\\Users\\Sheela Sai kumar\\AppData\\Local\\Temp\\ipykernel_18992\\657163122.py:43: FutureWarning: The frame.append method is deprecated and will be removed from pandas in a future version. Use pandas.concat instead.\n",
      "  stored_files_df = stored_files_df.append({'Filename': filename, 'Category': category, 'Destination': destination_path},\n",
      "C:\\Users\\Sheela Sai kumar\\AppData\\Local\\Temp\\ipykernel_18992\\657163122.py:43: FutureWarning: The frame.append method is deprecated and will be removed from pandas in a future version. Use pandas.concat instead.\n",
      "  stored_files_df = stored_files_df.append({'Filename': filename, 'Category': category, 'Destination': destination_path},\n",
      "C:\\Users\\Sheela Sai kumar\\AppData\\Local\\Temp\\ipykernel_18992\\657163122.py:43: FutureWarning: The frame.append method is deprecated and will be removed from pandas in a future version. Use pandas.concat instead.\n",
      "  stored_files_df = stored_files_df.append({'Filename': filename, 'Category': category, 'Destination': destination_path},\n",
      "C:\\Users\\Sheela Sai kumar\\AppData\\Local\\Temp\\ipykernel_18992\\657163122.py:43: FutureWarning: The frame.append method is deprecated and will be removed from pandas in a future version. Use pandas.concat instead.\n",
      "  stored_files_df = stored_files_df.append({'Filename': filename, 'Category': category, 'Destination': destination_path},\n",
      "C:\\Users\\Sheela Sai kumar\\AppData\\Local\\Temp\\ipykernel_18992\\657163122.py:43: FutureWarning: The frame.append method is deprecated and will be removed from pandas in a future version. Use pandas.concat instead.\n",
      "  stored_files_df = stored_files_df.append({'Filename': filename, 'Category': category, 'Destination': destination_path},\n",
      "C:\\Users\\Sheela Sai kumar\\AppData\\Local\\Temp\\ipykernel_18992\\657163122.py:43: FutureWarning: The frame.append method is deprecated and will be removed from pandas in a future version. Use pandas.concat instead.\n",
      "  stored_files_df = stored_files_df.append({'Filename': filename, 'Category': category, 'Destination': destination_path},\n",
      "C:\\Users\\Sheela Sai kumar\\AppData\\Local\\Temp\\ipykernel_18992\\657163122.py:43: FutureWarning: The frame.append method is deprecated and will be removed from pandas in a future version. Use pandas.concat instead.\n",
      "  stored_files_df = stored_files_df.append({'Filename': filename, 'Category': category, 'Destination': destination_path},\n",
      "C:\\Users\\Sheela Sai kumar\\AppData\\Local\\Temp\\ipykernel_18992\\657163122.py:43: FutureWarning: The frame.append method is deprecated and will be removed from pandas in a future version. Use pandas.concat instead.\n",
      "  stored_files_df = stored_files_df.append({'Filename': filename, 'Category': category, 'Destination': destination_path},\n",
      "C:\\Users\\Sheela Sai kumar\\AppData\\Local\\Temp\\ipykernel_18992\\657163122.py:43: FutureWarning: The frame.append method is deprecated and will be removed from pandas in a future version. Use pandas.concat instead.\n",
      "  stored_files_df = stored_files_df.append({'Filename': filename, 'Category': category, 'Destination': destination_path},\n",
      "C:\\Users\\Sheela Sai kumar\\AppData\\Local\\Temp\\ipykernel_18992\\657163122.py:43: FutureWarning: The frame.append method is deprecated and will be removed from pandas in a future version. Use pandas.concat instead.\n",
      "  stored_files_df = stored_files_df.append({'Filename': filename, 'Category': category, 'Destination': destination_path},\n",
      "C:\\Users\\Sheela Sai kumar\\AppData\\Local\\Temp\\ipykernel_18992\\657163122.py:43: FutureWarning: The frame.append method is deprecated and will be removed from pandas in a future version. Use pandas.concat instead.\n",
      "  stored_files_df = stored_files_df.append({'Filename': filename, 'Category': category, 'Destination': destination_path},\n",
      "C:\\Users\\Sheela Sai kumar\\AppData\\Local\\Temp\\ipykernel_18992\\657163122.py:43: FutureWarning: The frame.append method is deprecated and will be removed from pandas in a future version. Use pandas.concat instead.\n",
      "  stored_files_df = stored_files_df.append({'Filename': filename, 'Category': category, 'Destination': destination_path},\n",
      "C:\\Users\\Sheela Sai kumar\\AppData\\Local\\Temp\\ipykernel_18992\\657163122.py:43: FutureWarning: The frame.append method is deprecated and will be removed from pandas in a future version. Use pandas.concat instead.\n",
      "  stored_files_df = stored_files_df.append({'Filename': filename, 'Category': category, 'Destination': destination_path},\n",
      "C:\\Users\\Sheela Sai kumar\\AppData\\Local\\Temp\\ipykernel_18992\\657163122.py:43: FutureWarning: The frame.append method is deprecated and will be removed from pandas in a future version. Use pandas.concat instead.\n",
      "  stored_files_df = stored_files_df.append({'Filename': filename, 'Category': category, 'Destination': destination_path},\n",
      "C:\\Users\\Sheela Sai kumar\\AppData\\Local\\Temp\\ipykernel_18992\\657163122.py:43: FutureWarning: The frame.append method is deprecated and will be removed from pandas in a future version. Use pandas.concat instead.\n",
      "  stored_files_df = stored_files_df.append({'Filename': filename, 'Category': category, 'Destination': destination_path},\n",
      "C:\\Users\\Sheela Sai kumar\\AppData\\Local\\Temp\\ipykernel_18992\\657163122.py:43: FutureWarning: The frame.append method is deprecated and will be removed from pandas in a future version. Use pandas.concat instead.\n",
      "  stored_files_df = stored_files_df.append({'Filename': filename, 'Category': category, 'Destination': destination_path},\n",
      "C:\\Users\\Sheela Sai kumar\\AppData\\Local\\Temp\\ipykernel_18992\\657163122.py:43: FutureWarning: The frame.append method is deprecated and will be removed from pandas in a future version. Use pandas.concat instead.\n",
      "  stored_files_df = stored_files_df.append({'Filename': filename, 'Category': category, 'Destination': destination_path},\n"
     ]
    },
    {
     "name": "stderr",
     "output_type": "stream",
     "text": [
      "C:\\Users\\Sheela Sai kumar\\AppData\\Local\\Temp\\ipykernel_18992\\657163122.py:43: FutureWarning: The frame.append method is deprecated and will be removed from pandas in a future version. Use pandas.concat instead.\n",
      "  stored_files_df = stored_files_df.append({'Filename': filename, 'Category': category, 'Destination': destination_path},\n",
      "C:\\Users\\Sheela Sai kumar\\AppData\\Local\\Temp\\ipykernel_18992\\657163122.py:43: FutureWarning: The frame.append method is deprecated and will be removed from pandas in a future version. Use pandas.concat instead.\n",
      "  stored_files_df = stored_files_df.append({'Filename': filename, 'Category': category, 'Destination': destination_path},\n",
      "C:\\Users\\Sheela Sai kumar\\AppData\\Local\\Temp\\ipykernel_18992\\657163122.py:43: FutureWarning: The frame.append method is deprecated and will be removed from pandas in a future version. Use pandas.concat instead.\n",
      "  stored_files_df = stored_files_df.append({'Filename': filename, 'Category': category, 'Destination': destination_path},\n",
      "C:\\Users\\Sheela Sai kumar\\AppData\\Local\\Temp\\ipykernel_18992\\657163122.py:43: FutureWarning: The frame.append method is deprecated and will be removed from pandas in a future version. Use pandas.concat instead.\n",
      "  stored_files_df = stored_files_df.append({'Filename': filename, 'Category': category, 'Destination': destination_path},\n",
      "C:\\Users\\Sheela Sai kumar\\AppData\\Local\\Temp\\ipykernel_18992\\657163122.py:43: FutureWarning: The frame.append method is deprecated and will be removed from pandas in a future version. Use pandas.concat instead.\n",
      "  stored_files_df = stored_files_df.append({'Filename': filename, 'Category': category, 'Destination': destination_path},\n",
      "C:\\Users\\Sheela Sai kumar\\AppData\\Local\\Temp\\ipykernel_18992\\657163122.py:43: FutureWarning: The frame.append method is deprecated and will be removed from pandas in a future version. Use pandas.concat instead.\n",
      "  stored_files_df = stored_files_df.append({'Filename': filename, 'Category': category, 'Destination': destination_path},\n",
      "C:\\Users\\Sheela Sai kumar\\AppData\\Local\\Temp\\ipykernel_18992\\657163122.py:43: FutureWarning: The frame.append method is deprecated and will be removed from pandas in a future version. Use pandas.concat instead.\n",
      "  stored_files_df = stored_files_df.append({'Filename': filename, 'Category': category, 'Destination': destination_path},\n",
      "C:\\Users\\Sheela Sai kumar\\AppData\\Local\\Temp\\ipykernel_18992\\657163122.py:43: FutureWarning: The frame.append method is deprecated and will be removed from pandas in a future version. Use pandas.concat instead.\n",
      "  stored_files_df = stored_files_df.append({'Filename': filename, 'Category': category, 'Destination': destination_path},\n",
      "C:\\Users\\Sheela Sai kumar\\AppData\\Local\\Temp\\ipykernel_18992\\657163122.py:43: FutureWarning: The frame.append method is deprecated and will be removed from pandas in a future version. Use pandas.concat instead.\n",
      "  stored_files_df = stored_files_df.append({'Filename': filename, 'Category': category, 'Destination': destination_path},\n",
      "C:\\Users\\Sheela Sai kumar\\AppData\\Local\\Temp\\ipykernel_18992\\657163122.py:43: FutureWarning: The frame.append method is deprecated and will be removed from pandas in a future version. Use pandas.concat instead.\n",
      "  stored_files_df = stored_files_df.append({'Filename': filename, 'Category': category, 'Destination': destination_path},\n",
      "C:\\Users\\Sheela Sai kumar\\AppData\\Local\\Temp\\ipykernel_18992\\657163122.py:43: FutureWarning: The frame.append method is deprecated and will be removed from pandas in a future version. Use pandas.concat instead.\n",
      "  stored_files_df = stored_files_df.append({'Filename': filename, 'Category': category, 'Destination': destination_path},\n",
      "C:\\Users\\Sheela Sai kumar\\AppData\\Local\\Temp\\ipykernel_18992\\657163122.py:43: FutureWarning: The frame.append method is deprecated and will be removed from pandas in a future version. Use pandas.concat instead.\n",
      "  stored_files_df = stored_files_df.append({'Filename': filename, 'Category': category, 'Destination': destination_path},\n",
      "C:\\Users\\Sheela Sai kumar\\AppData\\Local\\Temp\\ipykernel_18992\\657163122.py:43: FutureWarning: The frame.append method is deprecated and will be removed from pandas in a future version. Use pandas.concat instead.\n",
      "  stored_files_df = stored_files_df.append({'Filename': filename, 'Category': category, 'Destination': destination_path},\n",
      "C:\\Users\\Sheela Sai kumar\\AppData\\Local\\Temp\\ipykernel_18992\\657163122.py:43: FutureWarning: The frame.append method is deprecated and will be removed from pandas in a future version. Use pandas.concat instead.\n",
      "  stored_files_df = stored_files_df.append({'Filename': filename, 'Category': category, 'Destination': destination_path},\n",
      "C:\\Users\\Sheela Sai kumar\\AppData\\Local\\Temp\\ipykernel_18992\\657163122.py:43: FutureWarning: The frame.append method is deprecated and will be removed from pandas in a future version. Use pandas.concat instead.\n",
      "  stored_files_df = stored_files_df.append({'Filename': filename, 'Category': category, 'Destination': destination_path},\n",
      "C:\\Users\\Sheela Sai kumar\\AppData\\Local\\Temp\\ipykernel_18992\\657163122.py:43: FutureWarning: The frame.append method is deprecated and will be removed from pandas in a future version. Use pandas.concat instead.\n",
      "  stored_files_df = stored_files_df.append({'Filename': filename, 'Category': category, 'Destination': destination_path},\n",
      "C:\\Users\\Sheela Sai kumar\\AppData\\Local\\Temp\\ipykernel_18992\\657163122.py:43: FutureWarning: The frame.append method is deprecated and will be removed from pandas in a future version. Use pandas.concat instead.\n",
      "  stored_files_df = stored_files_df.append({'Filename': filename, 'Category': category, 'Destination': destination_path},\n",
      "C:\\Users\\Sheela Sai kumar\\AppData\\Local\\Temp\\ipykernel_18992\\657163122.py:43: FutureWarning: The frame.append method is deprecated and will be removed from pandas in a future version. Use pandas.concat instead.\n",
      "  stored_files_df = stored_files_df.append({'Filename': filename, 'Category': category, 'Destination': destination_path},\n",
      "C:\\Users\\Sheela Sai kumar\\AppData\\Local\\Temp\\ipykernel_18992\\657163122.py:43: FutureWarning: The frame.append method is deprecated and will be removed from pandas in a future version. Use pandas.concat instead.\n",
      "  stored_files_df = stored_files_df.append({'Filename': filename, 'Category': category, 'Destination': destination_path},\n",
      "C:\\Users\\Sheela Sai kumar\\AppData\\Local\\Temp\\ipykernel_18992\\657163122.py:43: FutureWarning: The frame.append method is deprecated and will be removed from pandas in a future version. Use pandas.concat instead.\n",
      "  stored_files_df = stored_files_df.append({'Filename': filename, 'Category': category, 'Destination': destination_path},\n",
      "C:\\Users\\Sheela Sai kumar\\AppData\\Local\\Temp\\ipykernel_18992\\657163122.py:43: FutureWarning: The frame.append method is deprecated and will be removed from pandas in a future version. Use pandas.concat instead.\n",
      "  stored_files_df = stored_files_df.append({'Filename': filename, 'Category': category, 'Destination': destination_path},\n",
      "C:\\Users\\Sheela Sai kumar\\AppData\\Local\\Temp\\ipykernel_18992\\657163122.py:43: FutureWarning: The frame.append method is deprecated and will be removed from pandas in a future version. Use pandas.concat instead.\n",
      "  stored_files_df = stored_files_df.append({'Filename': filename, 'Category': category, 'Destination': destination_path},\n",
      "C:\\Users\\Sheela Sai kumar\\AppData\\Local\\Temp\\ipykernel_18992\\657163122.py:43: FutureWarning: The frame.append method is deprecated and will be removed from pandas in a future version. Use pandas.concat instead.\n",
      "  stored_files_df = stored_files_df.append({'Filename': filename, 'Category': category, 'Destination': destination_path},\n",
      "C:\\Users\\Sheela Sai kumar\\AppData\\Local\\Temp\\ipykernel_18992\\657163122.py:43: FutureWarning: The frame.append method is deprecated and will be removed from pandas in a future version. Use pandas.concat instead.\n",
      "  stored_files_df = stored_files_df.append({'Filename': filename, 'Category': category, 'Destination': destination_path},\n",
      "C:\\Users\\Sheela Sai kumar\\AppData\\Local\\Temp\\ipykernel_18992\\657163122.py:43: FutureWarning: The frame.append method is deprecated and will be removed from pandas in a future version. Use pandas.concat instead.\n",
      "  stored_files_df = stored_files_df.append({'Filename': filename, 'Category': category, 'Destination': destination_path},\n",
      "C:\\Users\\Sheela Sai kumar\\AppData\\Local\\Temp\\ipykernel_18992\\657163122.py:43: FutureWarning: The frame.append method is deprecated and will be removed from pandas in a future version. Use pandas.concat instead.\n",
      "  stored_files_df = stored_files_df.append({'Filename': filename, 'Category': category, 'Destination': destination_path},\n",
      "C:\\Users\\Sheela Sai kumar\\AppData\\Local\\Temp\\ipykernel_18992\\657163122.py:43: FutureWarning: The frame.append method is deprecated and will be removed from pandas in a future version. Use pandas.concat instead.\n",
      "  stored_files_df = stored_files_df.append({'Filename': filename, 'Category': category, 'Destination': destination_path},\n",
      "C:\\Users\\Sheela Sai kumar\\AppData\\Local\\Temp\\ipykernel_18992\\657163122.py:43: FutureWarning: The frame.append method is deprecated and will be removed from pandas in a future version. Use pandas.concat instead.\n",
      "  stored_files_df = stored_files_df.append({'Filename': filename, 'Category': category, 'Destination': destination_path},\n"
     ]
    },
    {
     "name": "stderr",
     "output_type": "stream",
     "text": [
      "C:\\Users\\Sheela Sai kumar\\AppData\\Local\\Temp\\ipykernel_18992\\657163122.py:43: FutureWarning: The frame.append method is deprecated and will be removed from pandas in a future version. Use pandas.concat instead.\n",
      "  stored_files_df = stored_files_df.append({'Filename': filename, 'Category': category, 'Destination': destination_path},\n",
      "C:\\Users\\Sheela Sai kumar\\AppData\\Local\\Temp\\ipykernel_18992\\657163122.py:43: FutureWarning: The frame.append method is deprecated and will be removed from pandas in a future version. Use pandas.concat instead.\n",
      "  stored_files_df = stored_files_df.append({'Filename': filename, 'Category': category, 'Destination': destination_path},\n",
      "C:\\Users\\Sheela Sai kumar\\AppData\\Local\\Temp\\ipykernel_18992\\657163122.py:43: FutureWarning: The frame.append method is deprecated and will be removed from pandas in a future version. Use pandas.concat instead.\n",
      "  stored_files_df = stored_files_df.append({'Filename': filename, 'Category': category, 'Destination': destination_path},\n",
      "C:\\Users\\Sheela Sai kumar\\AppData\\Local\\Temp\\ipykernel_18992\\657163122.py:43: FutureWarning: The frame.append method is deprecated and will be removed from pandas in a future version. Use pandas.concat instead.\n",
      "  stored_files_df = stored_files_df.append({'Filename': filename, 'Category': category, 'Destination': destination_path},\n",
      "C:\\Users\\Sheela Sai kumar\\AppData\\Local\\Temp\\ipykernel_18992\\657163122.py:43: FutureWarning: The frame.append method is deprecated and will be removed from pandas in a future version. Use pandas.concat instead.\n",
      "  stored_files_df = stored_files_df.append({'Filename': filename, 'Category': category, 'Destination': destination_path},\n",
      "C:\\Users\\Sheela Sai kumar\\AppData\\Local\\Temp\\ipykernel_18992\\657163122.py:43: FutureWarning: The frame.append method is deprecated and will be removed from pandas in a future version. Use pandas.concat instead.\n",
      "  stored_files_df = stored_files_df.append({'Filename': filename, 'Category': category, 'Destination': destination_path},\n",
      "C:\\Users\\Sheela Sai kumar\\AppData\\Local\\Temp\\ipykernel_18992\\657163122.py:43: FutureWarning: The frame.append method is deprecated and will be removed from pandas in a future version. Use pandas.concat instead.\n",
      "  stored_files_df = stored_files_df.append({'Filename': filename, 'Category': category, 'Destination': destination_path},\n",
      "C:\\Users\\Sheela Sai kumar\\AppData\\Local\\Temp\\ipykernel_18992\\657163122.py:43: FutureWarning: The frame.append method is deprecated and will be removed from pandas in a future version. Use pandas.concat instead.\n",
      "  stored_files_df = stored_files_df.append({'Filename': filename, 'Category': category, 'Destination': destination_path},\n",
      "C:\\Users\\Sheela Sai kumar\\AppData\\Local\\Temp\\ipykernel_18992\\657163122.py:43: FutureWarning: The frame.append method is deprecated and will be removed from pandas in a future version. Use pandas.concat instead.\n",
      "  stored_files_df = stored_files_df.append({'Filename': filename, 'Category': category, 'Destination': destination_path},\n",
      "C:\\Users\\Sheela Sai kumar\\AppData\\Local\\Temp\\ipykernel_18992\\657163122.py:43: FutureWarning: The frame.append method is deprecated and will be removed from pandas in a future version. Use pandas.concat instead.\n",
      "  stored_files_df = stored_files_df.append({'Filename': filename, 'Category': category, 'Destination': destination_path},\n",
      "C:\\Users\\Sheela Sai kumar\\AppData\\Local\\Temp\\ipykernel_18992\\657163122.py:43: FutureWarning: The frame.append method is deprecated and will be removed from pandas in a future version. Use pandas.concat instead.\n",
      "  stored_files_df = stored_files_df.append({'Filename': filename, 'Category': category, 'Destination': destination_path},\n",
      "C:\\Users\\Sheela Sai kumar\\AppData\\Local\\Temp\\ipykernel_18992\\657163122.py:43: FutureWarning: The frame.append method is deprecated and will be removed from pandas in a future version. Use pandas.concat instead.\n",
      "  stored_files_df = stored_files_df.append({'Filename': filename, 'Category': category, 'Destination': destination_path},\n",
      "C:\\Users\\Sheela Sai kumar\\AppData\\Local\\Temp\\ipykernel_18992\\657163122.py:43: FutureWarning: The frame.append method is deprecated and will be removed from pandas in a future version. Use pandas.concat instead.\n",
      "  stored_files_df = stored_files_df.append({'Filename': filename, 'Category': category, 'Destination': destination_path},\n",
      "C:\\Users\\Sheela Sai kumar\\AppData\\Local\\Temp\\ipykernel_18992\\657163122.py:43: FutureWarning: The frame.append method is deprecated and will be removed from pandas in a future version. Use pandas.concat instead.\n",
      "  stored_files_df = stored_files_df.append({'Filename': filename, 'Category': category, 'Destination': destination_path},\n",
      "C:\\Users\\Sheela Sai kumar\\AppData\\Local\\Temp\\ipykernel_18992\\657163122.py:43: FutureWarning: The frame.append method is deprecated and will be removed from pandas in a future version. Use pandas.concat instead.\n",
      "  stored_files_df = stored_files_df.append({'Filename': filename, 'Category': category, 'Destination': destination_path},\n",
      "C:\\Users\\Sheela Sai kumar\\AppData\\Local\\Temp\\ipykernel_18992\\657163122.py:43: FutureWarning: The frame.append method is deprecated and will be removed from pandas in a future version. Use pandas.concat instead.\n",
      "  stored_files_df = stored_files_df.append({'Filename': filename, 'Category': category, 'Destination': destination_path},\n",
      "C:\\Users\\Sheela Sai kumar\\AppData\\Local\\Temp\\ipykernel_18992\\657163122.py:43: FutureWarning: The frame.append method is deprecated and will be removed from pandas in a future version. Use pandas.concat instead.\n",
      "  stored_files_df = stored_files_df.append({'Filename': filename, 'Category': category, 'Destination': destination_path},\n",
      "C:\\Users\\Sheela Sai kumar\\AppData\\Local\\Temp\\ipykernel_18992\\657163122.py:43: FutureWarning: The frame.append method is deprecated and will be removed from pandas in a future version. Use pandas.concat instead.\n",
      "  stored_files_df = stored_files_df.append({'Filename': filename, 'Category': category, 'Destination': destination_path},\n",
      "C:\\Users\\Sheela Sai kumar\\AppData\\Local\\Temp\\ipykernel_18992\\657163122.py:43: FutureWarning: The frame.append method is deprecated and will be removed from pandas in a future version. Use pandas.concat instead.\n",
      "  stored_files_df = stored_files_df.append({'Filename': filename, 'Category': category, 'Destination': destination_path},\n",
      "C:\\Users\\Sheela Sai kumar\\AppData\\Local\\Temp\\ipykernel_18992\\657163122.py:43: FutureWarning: The frame.append method is deprecated and will be removed from pandas in a future version. Use pandas.concat instead.\n",
      "  stored_files_df = stored_files_df.append({'Filename': filename, 'Category': category, 'Destination': destination_path},\n",
      "C:\\Users\\Sheela Sai kumar\\AppData\\Local\\Temp\\ipykernel_18992\\657163122.py:43: FutureWarning: The frame.append method is deprecated and will be removed from pandas in a future version. Use pandas.concat instead.\n",
      "  stored_files_df = stored_files_df.append({'Filename': filename, 'Category': category, 'Destination': destination_path},\n",
      "C:\\Users\\Sheela Sai kumar\\AppData\\Local\\Temp\\ipykernel_18992\\657163122.py:43: FutureWarning: The frame.append method is deprecated and will be removed from pandas in a future version. Use pandas.concat instead.\n",
      "  stored_files_df = stored_files_df.append({'Filename': filename, 'Category': category, 'Destination': destination_path},\n",
      "C:\\Users\\Sheela Sai kumar\\AppData\\Local\\Temp\\ipykernel_18992\\657163122.py:43: FutureWarning: The frame.append method is deprecated and will be removed from pandas in a future version. Use pandas.concat instead.\n",
      "  stored_files_df = stored_files_df.append({'Filename': filename, 'Category': category, 'Destination': destination_path},\n",
      "C:\\Users\\Sheela Sai kumar\\AppData\\Local\\Temp\\ipykernel_18992\\657163122.py:43: FutureWarning: The frame.append method is deprecated and will be removed from pandas in a future version. Use pandas.concat instead.\n",
      "  stored_files_df = stored_files_df.append({'Filename': filename, 'Category': category, 'Destination': destination_path},\n",
      "C:\\Users\\Sheela Sai kumar\\AppData\\Local\\Temp\\ipykernel_18992\\657163122.py:43: FutureWarning: The frame.append method is deprecated and will be removed from pandas in a future version. Use pandas.concat instead.\n",
      "  stored_files_df = stored_files_df.append({'Filename': filename, 'Category': category, 'Destination': destination_path},\n",
      "C:\\Users\\Sheela Sai kumar\\AppData\\Local\\Temp\\ipykernel_18992\\657163122.py:43: FutureWarning: The frame.append method is deprecated and will be removed from pandas in a future version. Use pandas.concat instead.\n",
      "  stored_files_df = stored_files_df.append({'Filename': filename, 'Category': category, 'Destination': destination_path},\n",
      "C:\\Users\\Sheela Sai kumar\\AppData\\Local\\Temp\\ipykernel_18992\\657163122.py:43: FutureWarning: The frame.append method is deprecated and will be removed from pandas in a future version. Use pandas.concat instead.\n",
      "  stored_files_df = stored_files_df.append({'Filename': filename, 'Category': category, 'Destination': destination_path},\n",
      "C:\\Users\\Sheela Sai kumar\\AppData\\Local\\Temp\\ipykernel_18992\\657163122.py:43: FutureWarning: The frame.append method is deprecated and will be removed from pandas in a future version. Use pandas.concat instead.\n",
      "  stored_files_df = stored_files_df.append({'Filename': filename, 'Category': category, 'Destination': destination_path},\n",
      "C:\\Users\\Sheela Sai kumar\\AppData\\Local\\Temp\\ipykernel_18992\\657163122.py:43: FutureWarning: The frame.append method is deprecated and will be removed from pandas in a future version. Use pandas.concat instead.\n",
      "  stored_files_df = stored_files_df.append({'Filename': filename, 'Category': category, 'Destination': destination_path},\n",
      "C:\\Users\\Sheela Sai kumar\\AppData\\Local\\Temp\\ipykernel_18992\\657163122.py:43: FutureWarning: The frame.append method is deprecated and will be removed from pandas in a future version. Use pandas.concat instead.\n",
      "  stored_files_df = stored_files_df.append({'Filename': filename, 'Category': category, 'Destination': destination_path},\n",
      "C:\\Users\\Sheela Sai kumar\\AppData\\Local\\Temp\\ipykernel_18992\\657163122.py:43: FutureWarning: The frame.append method is deprecated and will be removed from pandas in a future version. Use pandas.concat instead.\n",
      "  stored_files_df = stored_files_df.append({'Filename': filename, 'Category': category, 'Destination': destination_path},\n",
      "C:\\Users\\Sheela Sai kumar\\AppData\\Local\\Temp\\ipykernel_18992\\657163122.py:43: FutureWarning: The frame.append method is deprecated and will be removed from pandas in a future version. Use pandas.concat instead.\n",
      "  stored_files_df = stored_files_df.append({'Filename': filename, 'Category': category, 'Destination': destination_path},\n"
     ]
    },
    {
     "name": "stderr",
     "output_type": "stream",
     "text": [
      "C:\\Users\\Sheela Sai kumar\\AppData\\Local\\Temp\\ipykernel_18992\\657163122.py:43: FutureWarning: The frame.append method is deprecated and will be removed from pandas in a future version. Use pandas.concat instead.\n",
      "  stored_files_df = stored_files_df.append({'Filename': filename, 'Category': category, 'Destination': destination_path},\n",
      "C:\\Users\\Sheela Sai kumar\\AppData\\Local\\Temp\\ipykernel_18992\\657163122.py:43: FutureWarning: The frame.append method is deprecated and will be removed from pandas in a future version. Use pandas.concat instead.\n",
      "  stored_files_df = stored_files_df.append({'Filename': filename, 'Category': category, 'Destination': destination_path},\n",
      "C:\\Users\\Sheela Sai kumar\\AppData\\Local\\Temp\\ipykernel_18992\\657163122.py:43: FutureWarning: The frame.append method is deprecated and will be removed from pandas in a future version. Use pandas.concat instead.\n",
      "  stored_files_df = stored_files_df.append({'Filename': filename, 'Category': category, 'Destination': destination_path},\n",
      "C:\\Users\\Sheela Sai kumar\\AppData\\Local\\Temp\\ipykernel_18992\\657163122.py:43: FutureWarning: The frame.append method is deprecated and will be removed from pandas in a future version. Use pandas.concat instead.\n",
      "  stored_files_df = stored_files_df.append({'Filename': filename, 'Category': category, 'Destination': destination_path},\n",
      "C:\\Users\\Sheela Sai kumar\\AppData\\Local\\Temp\\ipykernel_18992\\657163122.py:43: FutureWarning: The frame.append method is deprecated and will be removed from pandas in a future version. Use pandas.concat instead.\n",
      "  stored_files_df = stored_files_df.append({'Filename': filename, 'Category': category, 'Destination': destination_path},\n",
      "C:\\Users\\Sheela Sai kumar\\AppData\\Local\\Temp\\ipykernel_18992\\657163122.py:43: FutureWarning: The frame.append method is deprecated and will be removed from pandas in a future version. Use pandas.concat instead.\n",
      "  stored_files_df = stored_files_df.append({'Filename': filename, 'Category': category, 'Destination': destination_path},\n",
      "C:\\Users\\Sheela Sai kumar\\AppData\\Local\\Temp\\ipykernel_18992\\657163122.py:43: FutureWarning: The frame.append method is deprecated and will be removed from pandas in a future version. Use pandas.concat instead.\n",
      "  stored_files_df = stored_files_df.append({'Filename': filename, 'Category': category, 'Destination': destination_path},\n",
      "C:\\Users\\Sheela Sai kumar\\AppData\\Local\\Temp\\ipykernel_18992\\657163122.py:43: FutureWarning: The frame.append method is deprecated and will be removed from pandas in a future version. Use pandas.concat instead.\n",
      "  stored_files_df = stored_files_df.append({'Filename': filename, 'Category': category, 'Destination': destination_path},\n",
      "C:\\Users\\Sheela Sai kumar\\AppData\\Local\\Temp\\ipykernel_18992\\657163122.py:43: FutureWarning: The frame.append method is deprecated and will be removed from pandas in a future version. Use pandas.concat instead.\n",
      "  stored_files_df = stored_files_df.append({'Filename': filename, 'Category': category, 'Destination': destination_path},\n",
      "C:\\Users\\Sheela Sai kumar\\AppData\\Local\\Temp\\ipykernel_18992\\657163122.py:43: FutureWarning: The frame.append method is deprecated and will be removed from pandas in a future version. Use pandas.concat instead.\n",
      "  stored_files_df = stored_files_df.append({'Filename': filename, 'Category': category, 'Destination': destination_path},\n",
      "C:\\Users\\Sheela Sai kumar\\AppData\\Local\\Temp\\ipykernel_18992\\657163122.py:43: FutureWarning: The frame.append method is deprecated and will be removed from pandas in a future version. Use pandas.concat instead.\n",
      "  stored_files_df = stored_files_df.append({'Filename': filename, 'Category': category, 'Destination': destination_path},\n",
      "C:\\Users\\Sheela Sai kumar\\AppData\\Local\\Temp\\ipykernel_18992\\657163122.py:43: FutureWarning: The frame.append method is deprecated and will be removed from pandas in a future version. Use pandas.concat instead.\n",
      "  stored_files_df = stored_files_df.append({'Filename': filename, 'Category': category, 'Destination': destination_path},\n",
      "C:\\Users\\Sheela Sai kumar\\AppData\\Local\\Temp\\ipykernel_18992\\657163122.py:43: FutureWarning: The frame.append method is deprecated and will be removed from pandas in a future version. Use pandas.concat instead.\n",
      "  stored_files_df = stored_files_df.append({'Filename': filename, 'Category': category, 'Destination': destination_path},\n",
      "C:\\Users\\Sheela Sai kumar\\AppData\\Local\\Temp\\ipykernel_18992\\657163122.py:43: FutureWarning: The frame.append method is deprecated and will be removed from pandas in a future version. Use pandas.concat instead.\n",
      "  stored_files_df = stored_files_df.append({'Filename': filename, 'Category': category, 'Destination': destination_path},\n",
      "C:\\Users\\Sheela Sai kumar\\AppData\\Local\\Temp\\ipykernel_18992\\657163122.py:43: FutureWarning: The frame.append method is deprecated and will be removed from pandas in a future version. Use pandas.concat instead.\n",
      "  stored_files_df = stored_files_df.append({'Filename': filename, 'Category': category, 'Destination': destination_path},\n",
      "C:\\Users\\Sheela Sai kumar\\AppData\\Local\\Temp\\ipykernel_18992\\657163122.py:43: FutureWarning: The frame.append method is deprecated and will be removed from pandas in a future version. Use pandas.concat instead.\n",
      "  stored_files_df = stored_files_df.append({'Filename': filename, 'Category': category, 'Destination': destination_path},\n",
      "C:\\Users\\Sheela Sai kumar\\AppData\\Local\\Temp\\ipykernel_18992\\657163122.py:43: FutureWarning: The frame.append method is deprecated and will be removed from pandas in a future version. Use pandas.concat instead.\n",
      "  stored_files_df = stored_files_df.append({'Filename': filename, 'Category': category, 'Destination': destination_path},\n",
      "C:\\Users\\Sheela Sai kumar\\AppData\\Local\\Temp\\ipykernel_18992\\657163122.py:43: FutureWarning: The frame.append method is deprecated and will be removed from pandas in a future version. Use pandas.concat instead.\n",
      "  stored_files_df = stored_files_df.append({'Filename': filename, 'Category': category, 'Destination': destination_path},\n",
      "C:\\Users\\Sheela Sai kumar\\AppData\\Local\\Temp\\ipykernel_18992\\657163122.py:43: FutureWarning: The frame.append method is deprecated and will be removed from pandas in a future version. Use pandas.concat instead.\n",
      "  stored_files_df = stored_files_df.append({'Filename': filename, 'Category': category, 'Destination': destination_path},\n",
      "C:\\Users\\Sheela Sai kumar\\AppData\\Local\\Temp\\ipykernel_18992\\657163122.py:43: FutureWarning: The frame.append method is deprecated and will be removed from pandas in a future version. Use pandas.concat instead.\n",
      "  stored_files_df = stored_files_df.append({'Filename': filename, 'Category': category, 'Destination': destination_path},\n",
      "C:\\Users\\Sheela Sai kumar\\AppData\\Local\\Temp\\ipykernel_18992\\657163122.py:43: FutureWarning: The frame.append method is deprecated and will be removed from pandas in a future version. Use pandas.concat instead.\n",
      "  stored_files_df = stored_files_df.append({'Filename': filename, 'Category': category, 'Destination': destination_path},\n",
      "C:\\Users\\Sheela Sai kumar\\AppData\\Local\\Temp\\ipykernel_18992\\657163122.py:43: FutureWarning: The frame.append method is deprecated and will be removed from pandas in a future version. Use pandas.concat instead.\n",
      "  stored_files_df = stored_files_df.append({'Filename': filename, 'Category': category, 'Destination': destination_path},\n",
      "C:\\Users\\Sheela Sai kumar\\AppData\\Local\\Temp\\ipykernel_18992\\657163122.py:43: FutureWarning: The frame.append method is deprecated and will be removed from pandas in a future version. Use pandas.concat instead.\n",
      "  stored_files_df = stored_files_df.append({'Filename': filename, 'Category': category, 'Destination': destination_path},\n",
      "C:\\Users\\Sheela Sai kumar\\AppData\\Local\\Temp\\ipykernel_18992\\657163122.py:43: FutureWarning: The frame.append method is deprecated and will be removed from pandas in a future version. Use pandas.concat instead.\n",
      "  stored_files_df = stored_files_df.append({'Filename': filename, 'Category': category, 'Destination': destination_path},\n",
      "C:\\Users\\Sheela Sai kumar\\AppData\\Local\\Temp\\ipykernel_18992\\657163122.py:43: FutureWarning: The frame.append method is deprecated and will be removed from pandas in a future version. Use pandas.concat instead.\n",
      "  stored_files_df = stored_files_df.append({'Filename': filename, 'Category': category, 'Destination': destination_path},\n",
      "C:\\Users\\Sheela Sai kumar\\AppData\\Local\\Temp\\ipykernel_18992\\657163122.py:43: FutureWarning: The frame.append method is deprecated and will be removed from pandas in a future version. Use pandas.concat instead.\n",
      "  stored_files_df = stored_files_df.append({'Filename': filename, 'Category': category, 'Destination': destination_path},\n",
      "C:\\Users\\Sheela Sai kumar\\AppData\\Local\\Temp\\ipykernel_18992\\657163122.py:43: FutureWarning: The frame.append method is deprecated and will be removed from pandas in a future version. Use pandas.concat instead.\n",
      "  stored_files_df = stored_files_df.append({'Filename': filename, 'Category': category, 'Destination': destination_path},\n",
      "C:\\Users\\Sheela Sai kumar\\AppData\\Local\\Temp\\ipykernel_18992\\657163122.py:43: FutureWarning: The frame.append method is deprecated and will be removed from pandas in a future version. Use pandas.concat instead.\n",
      "  stored_files_df = stored_files_df.append({'Filename': filename, 'Category': category, 'Destination': destination_path},\n",
      "C:\\Users\\Sheela Sai kumar\\AppData\\Local\\Temp\\ipykernel_18992\\657163122.py:43: FutureWarning: The frame.append method is deprecated and will be removed from pandas in a future version. Use pandas.concat instead.\n",
      "  stored_files_df = stored_files_df.append({'Filename': filename, 'Category': category, 'Destination': destination_path},\n",
      "C:\\Users\\Sheela Sai kumar\\AppData\\Local\\Temp\\ipykernel_18992\\657163122.py:43: FutureWarning: The frame.append method is deprecated and will be removed from pandas in a future version. Use pandas.concat instead.\n",
      "  stored_files_df = stored_files_df.append({'Filename': filename, 'Category': category, 'Destination': destination_path},\n",
      "C:\\Users\\Sheela Sai kumar\\AppData\\Local\\Temp\\ipykernel_18992\\657163122.py:43: FutureWarning: The frame.append method is deprecated and will be removed from pandas in a future version. Use pandas.concat instead.\n",
      "  stored_files_df = stored_files_df.append({'Filename': filename, 'Category': category, 'Destination': destination_path},\n"
     ]
    },
    {
     "name": "stderr",
     "output_type": "stream",
     "text": [
      "C:\\Users\\Sheela Sai kumar\\AppData\\Local\\Temp\\ipykernel_18992\\657163122.py:43: FutureWarning: The frame.append method is deprecated and will be removed from pandas in a future version. Use pandas.concat instead.\n",
      "  stored_files_df = stored_files_df.append({'Filename': filename, 'Category': category, 'Destination': destination_path},\n",
      "C:\\Users\\Sheela Sai kumar\\AppData\\Local\\Temp\\ipykernel_18992\\657163122.py:43: FutureWarning: The frame.append method is deprecated and will be removed from pandas in a future version. Use pandas.concat instead.\n",
      "  stored_files_df = stored_files_df.append({'Filename': filename, 'Category': category, 'Destination': destination_path},\n",
      "C:\\Users\\Sheela Sai kumar\\AppData\\Local\\Temp\\ipykernel_18992\\657163122.py:43: FutureWarning: The frame.append method is deprecated and will be removed from pandas in a future version. Use pandas.concat instead.\n",
      "  stored_files_df = stored_files_df.append({'Filename': filename, 'Category': category, 'Destination': destination_path},\n",
      "C:\\Users\\Sheela Sai kumar\\AppData\\Local\\Temp\\ipykernel_18992\\657163122.py:43: FutureWarning: The frame.append method is deprecated and will be removed from pandas in a future version. Use pandas.concat instead.\n",
      "  stored_files_df = stored_files_df.append({'Filename': filename, 'Category': category, 'Destination': destination_path},\n",
      "C:\\Users\\Sheela Sai kumar\\AppData\\Local\\Temp\\ipykernel_18992\\657163122.py:43: FutureWarning: The frame.append method is deprecated and will be removed from pandas in a future version. Use pandas.concat instead.\n",
      "  stored_files_df = stored_files_df.append({'Filename': filename, 'Category': category, 'Destination': destination_path},\n",
      "C:\\Users\\Sheela Sai kumar\\AppData\\Local\\Temp\\ipykernel_18992\\657163122.py:43: FutureWarning: The frame.append method is deprecated and will be removed from pandas in a future version. Use pandas.concat instead.\n",
      "  stored_files_df = stored_files_df.append({'Filename': filename, 'Category': category, 'Destination': destination_path},\n",
      "C:\\Users\\Sheela Sai kumar\\AppData\\Local\\Temp\\ipykernel_18992\\657163122.py:43: FutureWarning: The frame.append method is deprecated and will be removed from pandas in a future version. Use pandas.concat instead.\n",
      "  stored_files_df = stored_files_df.append({'Filename': filename, 'Category': category, 'Destination': destination_path},\n",
      "C:\\Users\\Sheela Sai kumar\\AppData\\Local\\Temp\\ipykernel_18992\\657163122.py:43: FutureWarning: The frame.append method is deprecated and will be removed from pandas in a future version. Use pandas.concat instead.\n",
      "  stored_files_df = stored_files_df.append({'Filename': filename, 'Category': category, 'Destination': destination_path},\n",
      "C:\\Users\\Sheela Sai kumar\\AppData\\Local\\Temp\\ipykernel_18992\\657163122.py:43: FutureWarning: The frame.append method is deprecated and will be removed from pandas in a future version. Use pandas.concat instead.\n",
      "  stored_files_df = stored_files_df.append({'Filename': filename, 'Category': category, 'Destination': destination_path},\n",
      "C:\\Users\\Sheela Sai kumar\\AppData\\Local\\Temp\\ipykernel_18992\\657163122.py:43: FutureWarning: The frame.append method is deprecated and will be removed from pandas in a future version. Use pandas.concat instead.\n",
      "  stored_files_df = stored_files_df.append({'Filename': filename, 'Category': category, 'Destination': destination_path},\n",
      "C:\\Users\\Sheela Sai kumar\\AppData\\Local\\Temp\\ipykernel_18992\\657163122.py:43: FutureWarning: The frame.append method is deprecated and will be removed from pandas in a future version. Use pandas.concat instead.\n",
      "  stored_files_df = stored_files_df.append({'Filename': filename, 'Category': category, 'Destination': destination_path},\n",
      "C:\\Users\\Sheela Sai kumar\\AppData\\Local\\Temp\\ipykernel_18992\\657163122.py:43: FutureWarning: The frame.append method is deprecated and will be removed from pandas in a future version. Use pandas.concat instead.\n",
      "  stored_files_df = stored_files_df.append({'Filename': filename, 'Category': category, 'Destination': destination_path},\n",
      "C:\\Users\\Sheela Sai kumar\\AppData\\Local\\Temp\\ipykernel_18992\\657163122.py:43: FutureWarning: The frame.append method is deprecated and will be removed from pandas in a future version. Use pandas.concat instead.\n",
      "  stored_files_df = stored_files_df.append({'Filename': filename, 'Category': category, 'Destination': destination_path},\n",
      "C:\\Users\\Sheela Sai kumar\\AppData\\Local\\Temp\\ipykernel_18992\\657163122.py:43: FutureWarning: The frame.append method is deprecated and will be removed from pandas in a future version. Use pandas.concat instead.\n",
      "  stored_files_df = stored_files_df.append({'Filename': filename, 'Category': category, 'Destination': destination_path},\n",
      "C:\\Users\\Sheela Sai kumar\\AppData\\Local\\Temp\\ipykernel_18992\\657163122.py:43: FutureWarning: The frame.append method is deprecated and will be removed from pandas in a future version. Use pandas.concat instead.\n",
      "  stored_files_df = stored_files_df.append({'Filename': filename, 'Category': category, 'Destination': destination_path},\n",
      "C:\\Users\\Sheela Sai kumar\\AppData\\Local\\Temp\\ipykernel_18992\\657163122.py:43: FutureWarning: The frame.append method is deprecated and will be removed from pandas in a future version. Use pandas.concat instead.\n",
      "  stored_files_df = stored_files_df.append({'Filename': filename, 'Category': category, 'Destination': destination_path},\n",
      "C:\\Users\\Sheela Sai kumar\\AppData\\Local\\Temp\\ipykernel_18992\\657163122.py:43: FutureWarning: The frame.append method is deprecated and will be removed from pandas in a future version. Use pandas.concat instead.\n",
      "  stored_files_df = stored_files_df.append({'Filename': filename, 'Category': category, 'Destination': destination_path},\n",
      "C:\\Users\\Sheela Sai kumar\\AppData\\Local\\Temp\\ipykernel_18992\\657163122.py:43: FutureWarning: The frame.append method is deprecated and will be removed from pandas in a future version. Use pandas.concat instead.\n",
      "  stored_files_df = stored_files_df.append({'Filename': filename, 'Category': category, 'Destination': destination_path},\n",
      "C:\\Users\\Sheela Sai kumar\\AppData\\Local\\Temp\\ipykernel_18992\\657163122.py:43: FutureWarning: The frame.append method is deprecated and will be removed from pandas in a future version. Use pandas.concat instead.\n",
      "  stored_files_df = stored_files_df.append({'Filename': filename, 'Category': category, 'Destination': destination_path},\n",
      "C:\\Users\\Sheela Sai kumar\\AppData\\Local\\Temp\\ipykernel_18992\\657163122.py:43: FutureWarning: The frame.append method is deprecated and will be removed from pandas in a future version. Use pandas.concat instead.\n",
      "  stored_files_df = stored_files_df.append({'Filename': filename, 'Category': category, 'Destination': destination_path},\n",
      "C:\\Users\\Sheela Sai kumar\\AppData\\Local\\Temp\\ipykernel_18992\\657163122.py:43: FutureWarning: The frame.append method is deprecated and will be removed from pandas in a future version. Use pandas.concat instead.\n",
      "  stored_files_df = stored_files_df.append({'Filename': filename, 'Category': category, 'Destination': destination_path},\n",
      "C:\\Users\\Sheela Sai kumar\\AppData\\Local\\Temp\\ipykernel_18992\\657163122.py:43: FutureWarning: The frame.append method is deprecated and will be removed from pandas in a future version. Use pandas.concat instead.\n",
      "  stored_files_df = stored_files_df.append({'Filename': filename, 'Category': category, 'Destination': destination_path},\n",
      "C:\\Users\\Sheela Sai kumar\\AppData\\Local\\Temp\\ipykernel_18992\\657163122.py:43: FutureWarning: The frame.append method is deprecated and will be removed from pandas in a future version. Use pandas.concat instead.\n",
      "  stored_files_df = stored_files_df.append({'Filename': filename, 'Category': category, 'Destination': destination_path},\n",
      "C:\\Users\\Sheela Sai kumar\\AppData\\Local\\Temp\\ipykernel_18992\\657163122.py:43: FutureWarning: The frame.append method is deprecated and will be removed from pandas in a future version. Use pandas.concat instead.\n",
      "  stored_files_df = stored_files_df.append({'Filename': filename, 'Category': category, 'Destination': destination_path},\n",
      "C:\\Users\\Sheela Sai kumar\\AppData\\Local\\Temp\\ipykernel_18992\\657163122.py:43: FutureWarning: The frame.append method is deprecated and will be removed from pandas in a future version. Use pandas.concat instead.\n",
      "  stored_files_df = stored_files_df.append({'Filename': filename, 'Category': category, 'Destination': destination_path},\n",
      "C:\\Users\\Sheela Sai kumar\\AppData\\Local\\Temp\\ipykernel_18992\\657163122.py:43: FutureWarning: The frame.append method is deprecated and will be removed from pandas in a future version. Use pandas.concat instead.\n",
      "  stored_files_df = stored_files_df.append({'Filename': filename, 'Category': category, 'Destination': destination_path},\n",
      "C:\\Users\\Sheela Sai kumar\\AppData\\Local\\Temp\\ipykernel_18992\\657163122.py:43: FutureWarning: The frame.append method is deprecated and will be removed from pandas in a future version. Use pandas.concat instead.\n",
      "  stored_files_df = stored_files_df.append({'Filename': filename, 'Category': category, 'Destination': destination_path},\n",
      "C:\\Users\\Sheela Sai kumar\\AppData\\Local\\Temp\\ipykernel_18992\\657163122.py:43: FutureWarning: The frame.append method is deprecated and will be removed from pandas in a future version. Use pandas.concat instead.\n",
      "  stored_files_df = stored_files_df.append({'Filename': filename, 'Category': category, 'Destination': destination_path},\n",
      "C:\\Users\\Sheela Sai kumar\\AppData\\Local\\Temp\\ipykernel_18992\\657163122.py:43: FutureWarning: The frame.append method is deprecated and will be removed from pandas in a future version. Use pandas.concat instead.\n",
      "  stored_files_df = stored_files_df.append({'Filename': filename, 'Category': category, 'Destination': destination_path},\n",
      "C:\\Users\\Sheela Sai kumar\\AppData\\Local\\Temp\\ipykernel_18992\\657163122.py:43: FutureWarning: The frame.append method is deprecated and will be removed from pandas in a future version. Use pandas.concat instead.\n",
      "  stored_files_df = stored_files_df.append({'Filename': filename, 'Category': category, 'Destination': destination_path},\n",
      "C:\\Users\\Sheela Sai kumar\\AppData\\Local\\Temp\\ipykernel_18992\\657163122.py:43: FutureWarning: The frame.append method is deprecated and will be removed from pandas in a future version. Use pandas.concat instead.\n",
      "  stored_files_df = stored_files_df.append({'Filename': filename, 'Category': category, 'Destination': destination_path},\n",
      "C:\\Users\\Sheela Sai kumar\\AppData\\Local\\Temp\\ipykernel_18992\\657163122.py:43: FutureWarning: The frame.append method is deprecated and will be removed from pandas in a future version. Use pandas.concat instead.\n",
      "  stored_files_df = stored_files_df.append({'Filename': filename, 'Category': category, 'Destination': destination_path},\n",
      "C:\\Users\\Sheela Sai kumar\\AppData\\Local\\Temp\\ipykernel_18992\\657163122.py:43: FutureWarning: The frame.append method is deprecated and will be removed from pandas in a future version. Use pandas.concat instead.\n",
      "  stored_files_df = stored_files_df.append({'Filename': filename, 'Category': category, 'Destination': destination_path},\n",
      "C:\\Users\\Sheela Sai kumar\\AppData\\Local\\Temp\\ipykernel_18992\\657163122.py:43: FutureWarning: The frame.append method is deprecated and will be removed from pandas in a future version. Use pandas.concat instead.\n",
      "  stored_files_df = stored_files_df.append({'Filename': filename, 'Category': category, 'Destination': destination_path},\n"
     ]
    },
    {
     "name": "stderr",
     "output_type": "stream",
     "text": [
      "C:\\Users\\Sheela Sai kumar\\AppData\\Local\\Temp\\ipykernel_18992\\657163122.py:43: FutureWarning: The frame.append method is deprecated and will be removed from pandas in a future version. Use pandas.concat instead.\n",
      "  stored_files_df = stored_files_df.append({'Filename': filename, 'Category': category, 'Destination': destination_path},\n",
      "C:\\Users\\Sheela Sai kumar\\AppData\\Local\\Temp\\ipykernel_18992\\657163122.py:43: FutureWarning: The frame.append method is deprecated and will be removed from pandas in a future version. Use pandas.concat instead.\n",
      "  stored_files_df = stored_files_df.append({'Filename': filename, 'Category': category, 'Destination': destination_path},\n",
      "C:\\Users\\Sheela Sai kumar\\AppData\\Local\\Temp\\ipykernel_18992\\657163122.py:43: FutureWarning: The frame.append method is deprecated and will be removed from pandas in a future version. Use pandas.concat instead.\n",
      "  stored_files_df = stored_files_df.append({'Filename': filename, 'Category': category, 'Destination': destination_path},\n",
      "C:\\Users\\Sheela Sai kumar\\AppData\\Local\\Temp\\ipykernel_18992\\657163122.py:43: FutureWarning: The frame.append method is deprecated and will be removed from pandas in a future version. Use pandas.concat instead.\n",
      "  stored_files_df = stored_files_df.append({'Filename': filename, 'Category': category, 'Destination': destination_path},\n",
      "C:\\Users\\Sheela Sai kumar\\AppData\\Local\\Temp\\ipykernel_18992\\657163122.py:43: FutureWarning: The frame.append method is deprecated and will be removed from pandas in a future version. Use pandas.concat instead.\n",
      "  stored_files_df = stored_files_df.append({'Filename': filename, 'Category': category, 'Destination': destination_path},\n",
      "C:\\Users\\Sheela Sai kumar\\AppData\\Local\\Temp\\ipykernel_18992\\657163122.py:43: FutureWarning: The frame.append method is deprecated and will be removed from pandas in a future version. Use pandas.concat instead.\n",
      "  stored_files_df = stored_files_df.append({'Filename': filename, 'Category': category, 'Destination': destination_path},\n",
      "C:\\Users\\Sheela Sai kumar\\AppData\\Local\\Temp\\ipykernel_18992\\657163122.py:43: FutureWarning: The frame.append method is deprecated and will be removed from pandas in a future version. Use pandas.concat instead.\n",
      "  stored_files_df = stored_files_df.append({'Filename': filename, 'Category': category, 'Destination': destination_path},\n",
      "C:\\Users\\Sheela Sai kumar\\AppData\\Local\\Temp\\ipykernel_18992\\657163122.py:43: FutureWarning: The frame.append method is deprecated and will be removed from pandas in a future version. Use pandas.concat instead.\n",
      "  stored_files_df = stored_files_df.append({'Filename': filename, 'Category': category, 'Destination': destination_path},\n",
      "C:\\Users\\Sheela Sai kumar\\AppData\\Local\\Temp\\ipykernel_18992\\657163122.py:43: FutureWarning: The frame.append method is deprecated and will be removed from pandas in a future version. Use pandas.concat instead.\n",
      "  stored_files_df = stored_files_df.append({'Filename': filename, 'Category': category, 'Destination': destination_path},\n",
      "C:\\Users\\Sheela Sai kumar\\AppData\\Local\\Temp\\ipykernel_18992\\657163122.py:43: FutureWarning: The frame.append method is deprecated and will be removed from pandas in a future version. Use pandas.concat instead.\n",
      "  stored_files_df = stored_files_df.append({'Filename': filename, 'Category': category, 'Destination': destination_path},\n",
      "C:\\Users\\Sheela Sai kumar\\AppData\\Local\\Temp\\ipykernel_18992\\657163122.py:43: FutureWarning: The frame.append method is deprecated and will be removed from pandas in a future version. Use pandas.concat instead.\n",
      "  stored_files_df = stored_files_df.append({'Filename': filename, 'Category': category, 'Destination': destination_path},\n",
      "C:\\Users\\Sheela Sai kumar\\AppData\\Local\\Temp\\ipykernel_18992\\657163122.py:43: FutureWarning: The frame.append method is deprecated and will be removed from pandas in a future version. Use pandas.concat instead.\n",
      "  stored_files_df = stored_files_df.append({'Filename': filename, 'Category': category, 'Destination': destination_path},\n",
      "C:\\Users\\Sheela Sai kumar\\AppData\\Local\\Temp\\ipykernel_18992\\657163122.py:43: FutureWarning: The frame.append method is deprecated and will be removed from pandas in a future version. Use pandas.concat instead.\n",
      "  stored_files_df = stored_files_df.append({'Filename': filename, 'Category': category, 'Destination': destination_path},\n",
      "C:\\Users\\Sheela Sai kumar\\AppData\\Local\\Temp\\ipykernel_18992\\657163122.py:43: FutureWarning: The frame.append method is deprecated and will be removed from pandas in a future version. Use pandas.concat instead.\n",
      "  stored_files_df = stored_files_df.append({'Filename': filename, 'Category': category, 'Destination': destination_path},\n",
      "C:\\Users\\Sheela Sai kumar\\AppData\\Local\\Temp\\ipykernel_18992\\657163122.py:43: FutureWarning: The frame.append method is deprecated and will be removed from pandas in a future version. Use pandas.concat instead.\n",
      "  stored_files_df = stored_files_df.append({'Filename': filename, 'Category': category, 'Destination': destination_path},\n",
      "C:\\Users\\Sheela Sai kumar\\AppData\\Local\\Temp\\ipykernel_18992\\657163122.py:43: FutureWarning: The frame.append method is deprecated and will be removed from pandas in a future version. Use pandas.concat instead.\n",
      "  stored_files_df = stored_files_df.append({'Filename': filename, 'Category': category, 'Destination': destination_path},\n",
      "C:\\Users\\Sheela Sai kumar\\AppData\\Local\\Temp\\ipykernel_18992\\657163122.py:43: FutureWarning: The frame.append method is deprecated and will be removed from pandas in a future version. Use pandas.concat instead.\n",
      "  stored_files_df = stored_files_df.append({'Filename': filename, 'Category': category, 'Destination': destination_path},\n",
      "C:\\Users\\Sheela Sai kumar\\AppData\\Local\\Temp\\ipykernel_18992\\657163122.py:43: FutureWarning: The frame.append method is deprecated and will be removed from pandas in a future version. Use pandas.concat instead.\n",
      "  stored_files_df = stored_files_df.append({'Filename': filename, 'Category': category, 'Destination': destination_path},\n",
      "C:\\Users\\Sheela Sai kumar\\AppData\\Local\\Temp\\ipykernel_18992\\657163122.py:43: FutureWarning: The frame.append method is deprecated and will be removed from pandas in a future version. Use pandas.concat instead.\n",
      "  stored_files_df = stored_files_df.append({'Filename': filename, 'Category': category, 'Destination': destination_path},\n",
      "C:\\Users\\Sheela Sai kumar\\AppData\\Local\\Temp\\ipykernel_18992\\657163122.py:43: FutureWarning: The frame.append method is deprecated and will be removed from pandas in a future version. Use pandas.concat instead.\n",
      "  stored_files_df = stored_files_df.append({'Filename': filename, 'Category': category, 'Destination': destination_path},\n",
      "C:\\Users\\Sheela Sai kumar\\AppData\\Local\\Temp\\ipykernel_18992\\657163122.py:43: FutureWarning: The frame.append method is deprecated and will be removed from pandas in a future version. Use pandas.concat instead.\n",
      "  stored_files_df = stored_files_df.append({'Filename': filename, 'Category': category, 'Destination': destination_path},\n",
      "C:\\Users\\Sheela Sai kumar\\AppData\\Local\\Temp\\ipykernel_18992\\657163122.py:43: FutureWarning: The frame.append method is deprecated and will be removed from pandas in a future version. Use pandas.concat instead.\n",
      "  stored_files_df = stored_files_df.append({'Filename': filename, 'Category': category, 'Destination': destination_path},\n",
      "C:\\Users\\Sheela Sai kumar\\AppData\\Local\\Temp\\ipykernel_18992\\657163122.py:43: FutureWarning: The frame.append method is deprecated and will be removed from pandas in a future version. Use pandas.concat instead.\n",
      "  stored_files_df = stored_files_df.append({'Filename': filename, 'Category': category, 'Destination': destination_path},\n",
      "C:\\Users\\Sheela Sai kumar\\AppData\\Local\\Temp\\ipykernel_18992\\657163122.py:43: FutureWarning: The frame.append method is deprecated and will be removed from pandas in a future version. Use pandas.concat instead.\n",
      "  stored_files_df = stored_files_df.append({'Filename': filename, 'Category': category, 'Destination': destination_path},\n",
      "C:\\Users\\Sheela Sai kumar\\AppData\\Local\\Temp\\ipykernel_18992\\657163122.py:43: FutureWarning: The frame.append method is deprecated and will be removed from pandas in a future version. Use pandas.concat instead.\n",
      "  stored_files_df = stored_files_df.append({'Filename': filename, 'Category': category, 'Destination': destination_path},\n",
      "C:\\Users\\Sheela Sai kumar\\AppData\\Local\\Temp\\ipykernel_18992\\657163122.py:43: FutureWarning: The frame.append method is deprecated and will be removed from pandas in a future version. Use pandas.concat instead.\n",
      "  stored_files_df = stored_files_df.append({'Filename': filename, 'Category': category, 'Destination': destination_path},\n",
      "C:\\Users\\Sheela Sai kumar\\AppData\\Local\\Temp\\ipykernel_18992\\657163122.py:43: FutureWarning: The frame.append method is deprecated and will be removed from pandas in a future version. Use pandas.concat instead.\n",
      "  stored_files_df = stored_files_df.append({'Filename': filename, 'Category': category, 'Destination': destination_path},\n",
      "C:\\Users\\Sheela Sai kumar\\AppData\\Local\\Temp\\ipykernel_18992\\657163122.py:43: FutureWarning: The frame.append method is deprecated and will be removed from pandas in a future version. Use pandas.concat instead.\n",
      "  stored_files_df = stored_files_df.append({'Filename': filename, 'Category': category, 'Destination': destination_path},\n",
      "C:\\Users\\Sheela Sai kumar\\AppData\\Local\\Temp\\ipykernel_18992\\657163122.py:43: FutureWarning: The frame.append method is deprecated and will be removed from pandas in a future version. Use pandas.concat instead.\n",
      "  stored_files_df = stored_files_df.append({'Filename': filename, 'Category': category, 'Destination': destination_path},\n",
      "C:\\Users\\Sheela Sai kumar\\AppData\\Local\\Temp\\ipykernel_18992\\657163122.py:43: FutureWarning: The frame.append method is deprecated and will be removed from pandas in a future version. Use pandas.concat instead.\n",
      "  stored_files_df = stored_files_df.append({'Filename': filename, 'Category': category, 'Destination': destination_path},\n",
      "C:\\Users\\Sheela Sai kumar\\AppData\\Local\\Temp\\ipykernel_18992\\657163122.py:43: FutureWarning: The frame.append method is deprecated and will be removed from pandas in a future version. Use pandas.concat instead.\n",
      "  stored_files_df = stored_files_df.append({'Filename': filename, 'Category': category, 'Destination': destination_path},\n",
      "C:\\Users\\Sheela Sai kumar\\AppData\\Local\\Temp\\ipykernel_18992\\657163122.py:43: FutureWarning: The frame.append method is deprecated and will be removed from pandas in a future version. Use pandas.concat instead.\n",
      "  stored_files_df = stored_files_df.append({'Filename': filename, 'Category': category, 'Destination': destination_path},\n",
      "C:\\Users\\Sheela Sai kumar\\AppData\\Local\\Temp\\ipykernel_18992\\657163122.py:43: FutureWarning: The frame.append method is deprecated and will be removed from pandas in a future version. Use pandas.concat instead.\n",
      "  stored_files_df = stored_files_df.append({'Filename': filename, 'Category': category, 'Destination': destination_path},\n"
     ]
    },
    {
     "name": "stderr",
     "output_type": "stream",
     "text": [
      "C:\\Users\\Sheela Sai kumar\\AppData\\Local\\Temp\\ipykernel_18992\\657163122.py:43: FutureWarning: The frame.append method is deprecated and will be removed from pandas in a future version. Use pandas.concat instead.\n",
      "  stored_files_df = stored_files_df.append({'Filename': filename, 'Category': category, 'Destination': destination_path},\n",
      "C:\\Users\\Sheela Sai kumar\\AppData\\Local\\Temp\\ipykernel_18992\\657163122.py:43: FutureWarning: The frame.append method is deprecated and will be removed from pandas in a future version. Use pandas.concat instead.\n",
      "  stored_files_df = stored_files_df.append({'Filename': filename, 'Category': category, 'Destination': destination_path},\n",
      "C:\\Users\\Sheela Sai kumar\\AppData\\Local\\Temp\\ipykernel_18992\\657163122.py:43: FutureWarning: The frame.append method is deprecated and will be removed from pandas in a future version. Use pandas.concat instead.\n",
      "  stored_files_df = stored_files_df.append({'Filename': filename, 'Category': category, 'Destination': destination_path},\n",
      "C:\\Users\\Sheela Sai kumar\\AppData\\Local\\Temp\\ipykernel_18992\\657163122.py:43: FutureWarning: The frame.append method is deprecated and will be removed from pandas in a future version. Use pandas.concat instead.\n",
      "  stored_files_df = stored_files_df.append({'Filename': filename, 'Category': category, 'Destination': destination_path},\n",
      "C:\\Users\\Sheela Sai kumar\\AppData\\Local\\Temp\\ipykernel_18992\\657163122.py:43: FutureWarning: The frame.append method is deprecated and will be removed from pandas in a future version. Use pandas.concat instead.\n",
      "  stored_files_df = stored_files_df.append({'Filename': filename, 'Category': category, 'Destination': destination_path},\n",
      "C:\\Users\\Sheela Sai kumar\\AppData\\Local\\Temp\\ipykernel_18992\\657163122.py:43: FutureWarning: The frame.append method is deprecated and will be removed from pandas in a future version. Use pandas.concat instead.\n",
      "  stored_files_df = stored_files_df.append({'Filename': filename, 'Category': category, 'Destination': destination_path},\n",
      "C:\\Users\\Sheela Sai kumar\\AppData\\Local\\Temp\\ipykernel_18992\\657163122.py:43: FutureWarning: The frame.append method is deprecated and will be removed from pandas in a future version. Use pandas.concat instead.\n",
      "  stored_files_df = stored_files_df.append({'Filename': filename, 'Category': category, 'Destination': destination_path},\n",
      "C:\\Users\\Sheela Sai kumar\\AppData\\Local\\Temp\\ipykernel_18992\\657163122.py:43: FutureWarning: The frame.append method is deprecated and will be removed from pandas in a future version. Use pandas.concat instead.\n",
      "  stored_files_df = stored_files_df.append({'Filename': filename, 'Category': category, 'Destination': destination_path},\n",
      "C:\\Users\\Sheela Sai kumar\\AppData\\Local\\Temp\\ipykernel_18992\\657163122.py:43: FutureWarning: The frame.append method is deprecated and will be removed from pandas in a future version. Use pandas.concat instead.\n",
      "  stored_files_df = stored_files_df.append({'Filename': filename, 'Category': category, 'Destination': destination_path},\n",
      "C:\\Users\\Sheela Sai kumar\\AppData\\Local\\Temp\\ipykernel_18992\\657163122.py:43: FutureWarning: The frame.append method is deprecated and will be removed from pandas in a future version. Use pandas.concat instead.\n",
      "  stored_files_df = stored_files_df.append({'Filename': filename, 'Category': category, 'Destination': destination_path},\n",
      "C:\\Users\\Sheela Sai kumar\\AppData\\Local\\Temp\\ipykernel_18992\\657163122.py:43: FutureWarning: The frame.append method is deprecated and will be removed from pandas in a future version. Use pandas.concat instead.\n",
      "  stored_files_df = stored_files_df.append({'Filename': filename, 'Category': category, 'Destination': destination_path},\n",
      "C:\\Users\\Sheela Sai kumar\\AppData\\Local\\Temp\\ipykernel_18992\\657163122.py:43: FutureWarning: The frame.append method is deprecated and will be removed from pandas in a future version. Use pandas.concat instead.\n",
      "  stored_files_df = stored_files_df.append({'Filename': filename, 'Category': category, 'Destination': destination_path},\n",
      "C:\\Users\\Sheela Sai kumar\\AppData\\Local\\Temp\\ipykernel_18992\\657163122.py:43: FutureWarning: The frame.append method is deprecated and will be removed from pandas in a future version. Use pandas.concat instead.\n",
      "  stored_files_df = stored_files_df.append({'Filename': filename, 'Category': category, 'Destination': destination_path},\n",
      "C:\\Users\\Sheela Sai kumar\\AppData\\Local\\Temp\\ipykernel_18992\\657163122.py:43: FutureWarning: The frame.append method is deprecated and will be removed from pandas in a future version. Use pandas.concat instead.\n",
      "  stored_files_df = stored_files_df.append({'Filename': filename, 'Category': category, 'Destination': destination_path},\n",
      "C:\\Users\\Sheela Sai kumar\\AppData\\Local\\Temp\\ipykernel_18992\\657163122.py:43: FutureWarning: The frame.append method is deprecated and will be removed from pandas in a future version. Use pandas.concat instead.\n",
      "  stored_files_df = stored_files_df.append({'Filename': filename, 'Category': category, 'Destination': destination_path},\n",
      "C:\\Users\\Sheela Sai kumar\\AppData\\Local\\Temp\\ipykernel_18992\\657163122.py:43: FutureWarning: The frame.append method is deprecated and will be removed from pandas in a future version. Use pandas.concat instead.\n",
      "  stored_files_df = stored_files_df.append({'Filename': filename, 'Category': category, 'Destination': destination_path},\n",
      "C:\\Users\\Sheela Sai kumar\\AppData\\Local\\Temp\\ipykernel_18992\\657163122.py:43: FutureWarning: The frame.append method is deprecated and will be removed from pandas in a future version. Use pandas.concat instead.\n",
      "  stored_files_df = stored_files_df.append({'Filename': filename, 'Category': category, 'Destination': destination_path},\n",
      "C:\\Users\\Sheela Sai kumar\\AppData\\Local\\Temp\\ipykernel_18992\\657163122.py:43: FutureWarning: The frame.append method is deprecated and will be removed from pandas in a future version. Use pandas.concat instead.\n",
      "  stored_files_df = stored_files_df.append({'Filename': filename, 'Category': category, 'Destination': destination_path},\n",
      "C:\\Users\\Sheela Sai kumar\\AppData\\Local\\Temp\\ipykernel_18992\\657163122.py:43: FutureWarning: The frame.append method is deprecated and will be removed from pandas in a future version. Use pandas.concat instead.\n",
      "  stored_files_df = stored_files_df.append({'Filename': filename, 'Category': category, 'Destination': destination_path},\n",
      "C:\\Users\\Sheela Sai kumar\\AppData\\Local\\Temp\\ipykernel_18992\\657163122.py:43: FutureWarning: The frame.append method is deprecated and will be removed from pandas in a future version. Use pandas.concat instead.\n",
      "  stored_files_df = stored_files_df.append({'Filename': filename, 'Category': category, 'Destination': destination_path},\n",
      "C:\\Users\\Sheela Sai kumar\\AppData\\Local\\Temp\\ipykernel_18992\\657163122.py:43: FutureWarning: The frame.append method is deprecated and will be removed from pandas in a future version. Use pandas.concat instead.\n",
      "  stored_files_df = stored_files_df.append({'Filename': filename, 'Category': category, 'Destination': destination_path},\n",
      "C:\\Users\\Sheela Sai kumar\\AppData\\Local\\Temp\\ipykernel_18992\\657163122.py:43: FutureWarning: The frame.append method is deprecated and will be removed from pandas in a future version. Use pandas.concat instead.\n",
      "  stored_files_df = stored_files_df.append({'Filename': filename, 'Category': category, 'Destination': destination_path},\n",
      "C:\\Users\\Sheela Sai kumar\\AppData\\Local\\Temp\\ipykernel_18992\\657163122.py:43: FutureWarning: The frame.append method is deprecated and will be removed from pandas in a future version. Use pandas.concat instead.\n",
      "  stored_files_df = stored_files_df.append({'Filename': filename, 'Category': category, 'Destination': destination_path},\n",
      "C:\\Users\\Sheela Sai kumar\\AppData\\Local\\Temp\\ipykernel_18992\\657163122.py:43: FutureWarning: The frame.append method is deprecated and will be removed from pandas in a future version. Use pandas.concat instead.\n",
      "  stored_files_df = stored_files_df.append({'Filename': filename, 'Category': category, 'Destination': destination_path},\n",
      "C:\\Users\\Sheela Sai kumar\\AppData\\Local\\Temp\\ipykernel_18992\\657163122.py:43: FutureWarning: The frame.append method is deprecated and will be removed from pandas in a future version. Use pandas.concat instead.\n",
      "  stored_files_df = stored_files_df.append({'Filename': filename, 'Category': category, 'Destination': destination_path},\n",
      "C:\\Users\\Sheela Sai kumar\\AppData\\Local\\Temp\\ipykernel_18992\\657163122.py:43: FutureWarning: The frame.append method is deprecated and will be removed from pandas in a future version. Use pandas.concat instead.\n",
      "  stored_files_df = stored_files_df.append({'Filename': filename, 'Category': category, 'Destination': destination_path},\n",
      "C:\\Users\\Sheela Sai kumar\\AppData\\Local\\Temp\\ipykernel_18992\\657163122.py:43: FutureWarning: The frame.append method is deprecated and will be removed from pandas in a future version. Use pandas.concat instead.\n",
      "  stored_files_df = stored_files_df.append({'Filename': filename, 'Category': category, 'Destination': destination_path},\n",
      "C:\\Users\\Sheela Sai kumar\\AppData\\Local\\Temp\\ipykernel_18992\\657163122.py:43: FutureWarning: The frame.append method is deprecated and will be removed from pandas in a future version. Use pandas.concat instead.\n",
      "  stored_files_df = stored_files_df.append({'Filename': filename, 'Category': category, 'Destination': destination_path},\n"
     ]
    },
    {
     "name": "stderr",
     "output_type": "stream",
     "text": [
      "C:\\Users\\Sheela Sai kumar\\AppData\\Local\\Temp\\ipykernel_18992\\657163122.py:43: FutureWarning: The frame.append method is deprecated and will be removed from pandas in a future version. Use pandas.concat instead.\n",
      "  stored_files_df = stored_files_df.append({'Filename': filename, 'Category': category, 'Destination': destination_path},\n",
      "C:\\Users\\Sheela Sai kumar\\AppData\\Local\\Temp\\ipykernel_18992\\657163122.py:43: FutureWarning: The frame.append method is deprecated and will be removed from pandas in a future version. Use pandas.concat instead.\n",
      "  stored_files_df = stored_files_df.append({'Filename': filename, 'Category': category, 'Destination': destination_path},\n",
      "C:\\Users\\Sheela Sai kumar\\AppData\\Local\\Temp\\ipykernel_18992\\657163122.py:43: FutureWarning: The frame.append method is deprecated and will be removed from pandas in a future version. Use pandas.concat instead.\n",
      "  stored_files_df = stored_files_df.append({'Filename': filename, 'Category': category, 'Destination': destination_path},\n",
      "C:\\Users\\Sheela Sai kumar\\AppData\\Local\\Temp\\ipykernel_18992\\657163122.py:43: FutureWarning: The frame.append method is deprecated and will be removed from pandas in a future version. Use pandas.concat instead.\n",
      "  stored_files_df = stored_files_df.append({'Filename': filename, 'Category': category, 'Destination': destination_path},\n",
      "C:\\Users\\Sheela Sai kumar\\AppData\\Local\\Temp\\ipykernel_18992\\657163122.py:43: FutureWarning: The frame.append method is deprecated and will be removed from pandas in a future version. Use pandas.concat instead.\n",
      "  stored_files_df = stored_files_df.append({'Filename': filename, 'Category': category, 'Destination': destination_path},\n",
      "C:\\Users\\Sheela Sai kumar\\AppData\\Local\\Temp\\ipykernel_18992\\657163122.py:43: FutureWarning: The frame.append method is deprecated and will be removed from pandas in a future version. Use pandas.concat instead.\n",
      "  stored_files_df = stored_files_df.append({'Filename': filename, 'Category': category, 'Destination': destination_path},\n",
      "C:\\Users\\Sheela Sai kumar\\AppData\\Local\\Temp\\ipykernel_18992\\657163122.py:43: FutureWarning: The frame.append method is deprecated and will be removed from pandas in a future version. Use pandas.concat instead.\n",
      "  stored_files_df = stored_files_df.append({'Filename': filename, 'Category': category, 'Destination': destination_path},\n",
      "C:\\Users\\Sheela Sai kumar\\AppData\\Local\\Temp\\ipykernel_18992\\657163122.py:43: FutureWarning: The frame.append method is deprecated and will be removed from pandas in a future version. Use pandas.concat instead.\n",
      "  stored_files_df = stored_files_df.append({'Filename': filename, 'Category': category, 'Destination': destination_path},\n",
      "C:\\Users\\Sheela Sai kumar\\AppData\\Local\\Temp\\ipykernel_18992\\657163122.py:43: FutureWarning: The frame.append method is deprecated and will be removed from pandas in a future version. Use pandas.concat instead.\n",
      "  stored_files_df = stored_files_df.append({'Filename': filename, 'Category': category, 'Destination': destination_path},\n",
      "C:\\Users\\Sheela Sai kumar\\AppData\\Local\\Temp\\ipykernel_18992\\657163122.py:43: FutureWarning: The frame.append method is deprecated and will be removed from pandas in a future version. Use pandas.concat instead.\n",
      "  stored_files_df = stored_files_df.append({'Filename': filename, 'Category': category, 'Destination': destination_path},\n"
     ]
    },
    {
     "name": "stdout",
     "output_type": "stream",
     "text": [
      "                   Filename          Category  \\\n",
      "0    Video001-Scene-001.mp4              Logo   \n",
      "1    Video001-Scene-016.mp4  OutdoorLaunchpad   \n",
      "2    Video001-Scene-017.mp4  OutdoorLaunchpad   \n",
      "3    Video001-Scene-019.mp4         Animation   \n",
      "4    Video001-Scene-025.mp4          Graphics   \n",
      "..                      ...               ...   \n",
      "261  Video023-Scene-426.mp4             Crowd   \n",
      "262  Video023-Scene-428.mp4             Crowd   \n",
      "263  Video023-Scene-430.mp4             Crowd   \n",
      "264  Video024-Scene-008.mp4          Building   \n",
      "265  Video025-Scene-033.mp4            Garden   \n",
      "\n",
      "                                           Destination  \n",
      "0    C:\\Users\\Sheela Sai kumar\\Documents\\CNN\\SS585-...  \n",
      "1    C:\\Users\\Sheela Sai kumar\\Documents\\CNN\\SS585-...  \n",
      "2    C:\\Users\\Sheela Sai kumar\\Documents\\CNN\\SS585-...  \n",
      "3    C:\\Users\\Sheela Sai kumar\\Documents\\CNN\\SS585-...  \n",
      "4    C:\\Users\\Sheela Sai kumar\\Documents\\CNN\\SS585-...  \n",
      "..                                                 ...  \n",
      "261  C:\\Users\\Sheela Sai kumar\\Documents\\CNN\\SS585-...  \n",
      "262  C:\\Users\\Sheela Sai kumar\\Documents\\CNN\\SS585-...  \n",
      "263  C:\\Users\\Sheela Sai kumar\\Documents\\CNN\\SS585-...  \n",
      "264  C:\\Users\\Sheela Sai kumar\\Documents\\CNN\\SS585-...  \n",
      "265  C:\\Users\\Sheela Sai kumar\\Documents\\CNN\\SS585-...  \n",
      "\n",
      "[266 rows x 3 columns]\n"
     ]
    },
    {
     "name": "stderr",
     "output_type": "stream",
     "text": [
      "C:\\Users\\Sheela Sai kumar\\AppData\\Local\\Temp\\ipykernel_18992\\657163122.py:43: FutureWarning: The frame.append method is deprecated and will be removed from pandas in a future version. Use pandas.concat instead.\n",
      "  stored_files_df = stored_files_df.append({'Filename': filename, 'Category': category, 'Destination': destination_path},\n",
      "C:\\Users\\Sheela Sai kumar\\AppData\\Local\\Temp\\ipykernel_18992\\657163122.py:43: FutureWarning: The frame.append method is deprecated and will be removed from pandas in a future version. Use pandas.concat instead.\n",
      "  stored_files_df = stored_files_df.append({'Filename': filename, 'Category': category, 'Destination': destination_path},\n",
      "C:\\Users\\Sheela Sai kumar\\AppData\\Local\\Temp\\ipykernel_18992\\657163122.py:43: FutureWarning: The frame.append method is deprecated and will be removed from pandas in a future version. Use pandas.concat instead.\n",
      "  stored_files_df = stored_files_df.append({'Filename': filename, 'Category': category, 'Destination': destination_path},\n",
      "C:\\Users\\Sheela Sai kumar\\AppData\\Local\\Temp\\ipykernel_18992\\657163122.py:43: FutureWarning: The frame.append method is deprecated and will be removed from pandas in a future version. Use pandas.concat instead.\n",
      "  stored_files_df = stored_files_df.append({'Filename': filename, 'Category': category, 'Destination': destination_path},\n",
      "C:\\Users\\Sheela Sai kumar\\AppData\\Local\\Temp\\ipykernel_18992\\657163122.py:43: FutureWarning: The frame.append method is deprecated and will be removed from pandas in a future version. Use pandas.concat instead.\n",
      "  stored_files_df = stored_files_df.append({'Filename': filename, 'Category': category, 'Destination': destination_path},\n",
      "C:\\Users\\Sheela Sai kumar\\AppData\\Local\\Temp\\ipykernel_18992\\657163122.py:43: FutureWarning: The frame.append method is deprecated and will be removed from pandas in a future version. Use pandas.concat instead.\n",
      "  stored_files_df = stored_files_df.append({'Filename': filename, 'Category': category, 'Destination': destination_path},\n",
      "C:\\Users\\Sheela Sai kumar\\AppData\\Local\\Temp\\ipykernel_18992\\657163122.py:43: FutureWarning: The frame.append method is deprecated and will be removed from pandas in a future version. Use pandas.concat instead.\n",
      "  stored_files_df = stored_files_df.append({'Filename': filename, 'Category': category, 'Destination': destination_path},\n",
      "C:\\Users\\Sheela Sai kumar\\AppData\\Local\\Temp\\ipykernel_18992\\657163122.py:43: FutureWarning: The frame.append method is deprecated and will be removed from pandas in a future version. Use pandas.concat instead.\n",
      "  stored_files_df = stored_files_df.append({'Filename': filename, 'Category': category, 'Destination': destination_path},\n"
     ]
    }
   ],
   "source": [
    "import os\n",
    "import shutil\n",
    "import pandas as pd\n",
    "\n",
    "base_dir = os.getcwd()\n",
    "video_dir = os.path.join(base_dir, \"Videos\\\\Videos\")\n",
    "output_dir = os.path.join(base_dir, \"SelectedVideos\")\n",
    "\n",
    "# Define the maximum number of videos to store per category\n",
    "max_videos_per_category = 15\n",
    "\n",
    "# Create a dictionary to store the count of videos per category\n",
    "video_count = {}\n",
    "\n",
    "# Create a dataframe to store the information of stored files\n",
    "stored_files_df = pd.DataFrame(columns=['Filename', 'Category', 'Destination'])\n",
    "\n",
    "for index, row in final_df.iterrows():\n",
    "    filename = row['Filename']\n",
    "    category = row['Category']\n",
    "\n",
    "    # Create a directory for each category\n",
    "    category_dir = os.path.join(output_dir, category)\n",
    "    if not os.path.exists(category_dir):\n",
    "        os.makedirs(category_dir)\n",
    "\n",
    "    # Check if the maximum number of videos has been reached for the current category\n",
    "    if category in video_count and video_count[category] >= max_videos_per_category:\n",
    "        continue\n",
    "\n",
    "    source_path = os.path.join(video_dir, filename)\n",
    "    destination_path = os.path.join(category_dir, os.path.basename(filename))\n",
    "\n",
    "    shutil.copy(source_path, destination_path)\n",
    "\n",
    "    # Update the video count for the current category\n",
    "    if category in video_count:\n",
    "        video_count[category] += 1\n",
    "    else:\n",
    "        video_count[category] = 1\n",
    "\n",
    "    # Add the stored file information to the dataframe\n",
    "    stored_files_df = stored_files_df.append({'Filename': filename, 'Category': category, 'Destination': destination_path},\n",
    "                                             ignore_index=True)\n",
    "\n",
    "# Print the dataframe with stored files information\n",
    "print(stored_files_df)\n"
   ]
  },
  {
   "cell_type": "code",
   "execution_count": 30,
   "id": "ab5dd10b",
   "metadata": {},
   "outputs": [],
   "source": [
    "stored_files_df.to_csv(\"selected_videos.csv\", index = False)"
   ]
  },
  {
   "cell_type": "code",
   "execution_count": 32,
   "id": "6edb0079",
   "metadata": {},
   "outputs": [
    {
     "data": {
      "text/plain": [
       "(266, 3)"
      ]
     },
     "execution_count": 32,
     "metadata": {},
     "output_type": "execute_result"
    }
   ],
   "source": [
    "stored_files_df.shape"
   ]
  },
  {
   "cell_type": "code",
   "execution_count": 35,
   "id": "f057d5d0",
   "metadata": {},
   "outputs": [
    {
     "data": {
      "text/plain": [
       "19"
      ]
     },
     "execution_count": 35,
     "metadata": {},
     "output_type": "execute_result"
    }
   ],
   "source": [
    "len(stored_files_df['Category'].unique())"
   ]
  },
  {
   "cell_type": "code",
   "execution_count": 36,
   "id": "eb48c891",
   "metadata": {},
   "outputs": [
    {
     "data": {
      "text/plain": [
       "Logo                 15\n",
       "OutdoorLaunchpad     15\n",
       "IndoorGeneric        15\n",
       "Crowd                15\n",
       "DisplayScreen        15\n",
       "PersonCloseUp        15\n",
       "Speech               15\n",
       "Mountain             15\n",
       "Satellite            15\n",
       "OutdoorGeneric       15\n",
       "IndoorLab            15\n",
       "Launch               15\n",
       "Text                 15\n",
       "Graphics             15\n",
       "Animation            15\n",
       "IndoorControlRoom    15\n",
       "Interview            14\n",
       "Building              7\n",
       "Garden                5\n",
       "Name: Category, dtype: int64"
      ]
     },
     "execution_count": 36,
     "metadata": {},
     "output_type": "execute_result"
    }
   ],
   "source": [
    "stored_files_df['Category'].value_counts()"
   ]
  },
  {
   "cell_type": "code",
   "execution_count": null,
   "id": "7544cfd9",
   "metadata": {},
   "outputs": [],
   "source": []
  }
 ],
 "metadata": {
  "kernelspec": {
   "display_name": "Python 3 (ipykernel)",
   "language": "python",
   "name": "python3"
  },
  "language_info": {
   "codemirror_mode": {
    "name": "ipython",
    "version": 3
   },
   "file_extension": ".py",
   "mimetype": "text/x-python",
   "name": "python",
   "nbconvert_exporter": "python",
   "pygments_lexer": "ipython3",
   "version": "3.10.2"
  }
 },
 "nbformat": 4,
 "nbformat_minor": 5
}
